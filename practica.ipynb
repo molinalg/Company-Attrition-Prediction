{
 "cells": [
  {
   "cell_type": "code",
   "execution_count": null,
   "metadata": {},
   "outputs": [],
   "source": [
    "%pip install pandas seaborn numpy matplotlib scikit-learn lightgbm"
   ]
  },
  {
   "attachments": {},
   "cell_type": "markdown",
   "metadata": {},
   "source": [
    "Práctica 2 - Aprendizaje Automático\n",
    "\n",
    "Ángel Martín Carrasco y Álvaro Molina García"
   ]
  },
  {
   "attachments": {},
   "cell_type": "markdown",
   "metadata": {},
   "source": [
    "Para empezar importaremos algunas librerías que necesitamos."
   ]
  },
  {
   "cell_type": "code",
   "execution_count": 1,
   "metadata": {},
   "outputs": [],
   "source": [
    "import pandas as pd\n",
    "import seaborn as sea\n",
    "import numpy as np\n",
    "import matplotlib.pyplot as plt\n",
    "import pickle"
   ]
  },
  {
   "attachments": {},
   "cell_type": "markdown",
   "metadata": {},
   "source": [
    "También debemos importar nuestros datos otorgados por el profesorado."
   ]
  },
  {
   "cell_type": "code",
   "execution_count": 2,
   "metadata": {},
   "outputs": [],
   "source": [
    "# Datos de entrada\n",
    "with open('attrition_available_21.pkl', 'rb') as f:\n",
    "    data = pickle.load(f)\n",
    "f.close()\n",
    "\n",
    "# Random seed\n",
    "np.random.seed(21)\n",
    "\n",
    "# Diccionario para guardar resultados de métricas\n",
    "resultados = {}"
   ]
  },
  {
   "attachments": {},
   "cell_type": "markdown",
   "metadata": {},
   "source": [
    "Antes de comenzar el análisis exploratorio de los datos es apropiado conocer algunas carácterísticas de los mismos."
   ]
  },
  {
   "cell_type": "code",
   "execution_count": 3,
   "metadata": {},
   "outputs": [
    {
     "name": "stdout",
     "output_type": "stream",
     "text": [
      "La forma de data es: (4410, 31)\n",
      "\n",
      "El numero de valores perdidos es: \n",
      "hrs                        863\n",
      "absences                   876\n",
      "JobInvolvement             868\n",
      "PerformanceRating          857\n",
      "EnvironmentSatisfaction     25\n",
      "JobSatisfaction            770\n",
      "WorkLifeBalance            832\n",
      "Age                        798\n",
      "Attrition                    0\n",
      "BusinessTravel               0\n",
      "Department                 745\n",
      "DistanceFromHome           841\n",
      "Education                  831\n",
      "EducationField             953\n",
      "EmployeeCount              755\n",
      "EmployeeID                   0\n",
      "Gender                     779\n",
      "JobLevel                   859\n",
      "JobRole                    889\n",
      "MaritalStatus              966\n",
      "MonthlyIncome              887\n",
      "NumCompaniesWorked         846\n",
      "Over18                     846\n",
      "PercentSalaryHike          835\n",
      "StandardHours                0\n",
      "StockOptionLevel           854\n",
      "TotalWorkingYears          796\n",
      "TrainingTimesLastYear      868\n",
      "YearsAtCompany             785\n",
      "YearsSinceLastPromotion    854\n",
      "YearsWithCurrManager       969\n",
      "dtype: int64\n"
     ]
    }
   ],
   "source": [
    "print(\"La forma de data es: {}\".format(data.shape))\n",
    "print(\"\\nEl numero de valores perdidos es: \")\n",
    "print(data.isnull().sum())"
   ]
  },
  {
   "attachments": {},
   "cell_type": "markdown",
   "metadata": {},
   "source": [
    "Como podemos ver, contamos con valores nulos en nuestros datos. En concreto, la fracción de valores perdidos es:"
   ]
  },
  {
   "cell_type": "code",
   "execution_count": 4,
   "metadata": {},
   "outputs": [
    {
     "name": "stdout",
     "output_type": "stream",
     "text": [
      "\n",
      "La fraccion de valores perdidos es: \n",
      "hrs                        0.195692\n",
      "absences                   0.198639\n",
      "JobInvolvement             0.196825\n",
      "PerformanceRating          0.194331\n",
      "EnvironmentSatisfaction    0.005669\n",
      "JobSatisfaction            0.174603\n",
      "WorkLifeBalance            0.188662\n",
      "Age                        0.180952\n",
      "Attrition                  0.000000\n",
      "BusinessTravel             0.000000\n",
      "Department                 0.168934\n",
      "DistanceFromHome           0.190703\n",
      "Education                  0.188435\n",
      "EducationField             0.216100\n",
      "EmployeeCount              0.171202\n",
      "EmployeeID                 0.000000\n",
      "Gender                     0.176644\n",
      "JobLevel                   0.194785\n",
      "JobRole                    0.201587\n",
      "MaritalStatus              0.219048\n",
      "MonthlyIncome              0.201134\n",
      "NumCompaniesWorked         0.191837\n",
      "Over18                     0.191837\n",
      "PercentSalaryHike          0.189342\n",
      "StandardHours              0.000000\n",
      "StockOptionLevel           0.193651\n",
      "TotalWorkingYears          0.180499\n",
      "TrainingTimesLastYear      0.196825\n",
      "YearsAtCompany             0.178005\n",
      "YearsSinceLastPromotion    0.193651\n",
      "YearsWithCurrManager       0.219728\n",
      "dtype: float64\n"
     ]
    }
   ],
   "source": [
    "print(\"\\nLa fraccion de valores perdidos es: \")\n",
    "print(data.isnull().mean())"
   ]
  },
  {
   "attachments": {},
   "cell_type": "markdown",
   "metadata": {},
   "source": [
    "Podemos ver que nuestros datos tienen 4410 instancias y 31 atributos en las que se incluye la salida (\"Attrition\").\n",
    "\n",
    "A continuación comprobamos el tipo de datos de los atributos; si son numéricos, ordinales o categóricos."
   ]
  },
  {
   "cell_type": "code",
   "execution_count": 5,
   "metadata": {},
   "outputs": [
    {
     "name": "stdout",
     "output_type": "stream",
     "text": [
      "\n",
      "Los tipos de los atributos son: \n",
      "\n",
      "<class 'pandas.core.frame.DataFrame'>\n",
      "Int64Index: 4410 entries, 1 to 4409\n",
      "Data columns (total 31 columns):\n",
      " #   Column                   Non-Null Count  Dtype  \n",
      "---  ------                   --------------  -----  \n",
      " 0   hrs                      3547 non-null   float64\n",
      " 1   absences                 3534 non-null   float64\n",
      " 2   JobInvolvement           3542 non-null   float64\n",
      " 3   PerformanceRating        3553 non-null   float64\n",
      " 4   EnvironmentSatisfaction  4385 non-null   float64\n",
      " 5   JobSatisfaction          3640 non-null   float64\n",
      " 6   WorkLifeBalance          3578 non-null   float64\n",
      " 7   Age                      3612 non-null   float64\n",
      " 8   Attrition                4410 non-null   object \n",
      " 9   BusinessTravel           4410 non-null   object \n",
      " 10  Department               3665 non-null   object \n",
      " 11  DistanceFromHome         3569 non-null   float64\n",
      " 12  Education                3579 non-null   float64\n",
      " 13  EducationField           3457 non-null   object \n",
      " 14  EmployeeCount            3655 non-null   float64\n",
      " 15  EmployeeID               4410 non-null   int64  \n",
      " 16  Gender                   3631 non-null   object \n",
      " 17  JobLevel                 3551 non-null   float64\n",
      " 18  JobRole                  3521 non-null   object \n",
      " 19  MaritalStatus            3444 non-null   object \n",
      " 20  MonthlyIncome            3523 non-null   float64\n",
      " 21  NumCompaniesWorked       3564 non-null   float64\n",
      " 22  Over18                   3564 non-null   object \n",
      " 23  PercentSalaryHike        3575 non-null   float64\n",
      " 24  StandardHours            4410 non-null   int64  \n",
      " 25  StockOptionLevel         3556 non-null   float64\n",
      " 26  TotalWorkingYears        3614 non-null   float64\n",
      " 27  TrainingTimesLastYear    3542 non-null   float64\n",
      " 28  YearsAtCompany           3625 non-null   float64\n",
      " 29  YearsSinceLastPromotion  3556 non-null   float64\n",
      " 30  YearsWithCurrManager     3441 non-null   float64\n",
      "dtypes: float64(21), int64(2), object(8)\n",
      "memory usage: 1.1+ MB\n",
      "None\n"
     ]
    }
   ],
   "source": [
    "print(\"\\nLos tipos de los atributos son: \\n\")\n",
    "print(data.info())"
   ]
  },
  {
   "attachments": {},
   "cell_type": "markdown",
   "metadata": {},
   "source": [
    "Los datos parecen tener una mezcla de enteros, decimales y objetos que si miramos la cabecera podemos ver que son strings."
   ]
  },
  {
   "cell_type": "code",
   "execution_count": 6,
   "metadata": {},
   "outputs": [
    {
     "name": "stdout",
     "output_type": "stream",
     "text": [
      "          hrs  absences  JobInvolvement  PerformanceRating  \\\n",
      "1    7.315971      13.0             2.0                NaN   \n",
      "6    6.450877      17.0             3.0                4.0   \n",
      "13   8.871421      14.0             2.0                3.0   \n",
      "28  10.713066       6.0             2.0                3.0   \n",
      "30   9.662808       NaN             2.0                3.0   \n",
      "\n",
      "    EnvironmentSatisfaction  JobSatisfaction  WorkLifeBalance   Age Attrition  \\\n",
      "1                       3.0              2.0              4.0  31.0       Yes   \n",
      "6                       1.0              3.0              1.0  28.0       Yes   \n",
      "13                      1.0              2.0              2.0  47.0       Yes   \n",
      "28                      4.0              3.0              1.0  44.0       Yes   \n",
      "30                      1.0              NaN              3.0  26.0       Yes   \n",
      "\n",
      "       BusinessTravel  ... NumCompaniesWorked  Over18  PercentSalaryHike  \\\n",
      "1   Travel_Frequently  ...                NaN       Y               23.0   \n",
      "6       Travel_Rarely  ...                2.0       Y               20.0   \n",
      "13         Non-Travel  ...                1.0       Y               11.0   \n",
      "28  Travel_Frequently  ...                3.0       Y               14.0   \n",
      "30      Travel_Rarely  ...                2.0       Y               11.0   \n",
      "\n",
      "   StandardHours  StockOptionLevel  TotalWorkingYears TrainingTimesLastYear  \\\n",
      "1              8               1.0                6.0                   3.0   \n",
      "6              8               1.0                5.0                   2.0   \n",
      "13             8               2.0               10.0                   4.0   \n",
      "28             8               1.0               19.0                   2.0   \n",
      "30             8               0.0                5.0                   NaN   \n",
      "\n",
      "    YearsAtCompany YearsSinceLastPromotion YearsWithCurrManager  \n",
      "1              5.0                     NaN                  4.0  \n",
      "6              NaN                     0.0                  0.0  \n",
      "13            10.0                     9.0                  NaN  \n",
      "28             1.0                     NaN                  0.0  \n",
      "30             3.0                     NaN                  NaN  \n",
      "\n",
      "[5 rows x 31 columns]\n"
     ]
    }
   ],
   "source": [
    "print(data.head())"
   ]
  },
  {
   "attachments": {},
   "cell_type": "markdown",
   "metadata": {},
   "source": [
    "El hecho de que haya strings en nuestros datos puede dar problemas a la hora de manejarnos con ellos, es por eso que en pasos futuros tendremos que llevar a cabo conversiones que nos permitan utilizar los atributos \"objeto\" como numéricos."
   ]
  },
  {
   "attachments": {},
   "cell_type": "markdown",
   "metadata": {},
   "source": [
    "Ahora que estamos más familiarizados con los datos, vamos a comenzar la parte más importante del análisis exploratorio de los datos. Para ello, utilizaremos matrices de correlación pues por el número de columnas disponibles es complicado analizarlas una a una."
   ]
  },
  {
   "cell_type": "code",
   "execution_count": 7,
   "metadata": {},
   "outputs": [
    {
     "name": "stdout",
     "output_type": "stream",
     "text": [
      "La matriz de correlacion es: \n",
      "\n",
      "                              hrs  absences  JobInvolvement  \\\n",
      "hrs                      1.000000 -0.374042       -0.027090   \n",
      "absences                -0.374042  1.000000        0.001210   \n",
      "JobInvolvement          -0.027090  0.001210        1.000000   \n",
      "PerformanceRating        0.074885  0.013114        0.023141   \n",
      "EnvironmentSatisfaction  0.055493 -0.029093        0.013428   \n",
      "JobSatisfaction          0.020483 -0.009656        0.014624   \n",
      "WorkLifeBalance         -0.021755 -0.021248       -0.024048   \n",
      "Age                     -0.006383 -0.007770        0.021784   \n",
      "DistanceFromHome         0.012110 -0.023134        0.021157   \n",
      "Education               -0.002459  0.002459       -0.008295   \n",
      "EmployeeCount                 NaN       NaN             NaN   \n",
      "EmployeeID              -0.006860 -0.006268        0.021722   \n",
      "JobLevel                 0.013347  0.023672        0.001947   \n",
      "MonthlyIncome            0.003699  0.005349        0.010158   \n",
      "NumCompaniesWorked      -0.029603  0.018773        0.039775   \n",
      "PercentSalaryHike        0.024520  0.011885        0.005847   \n",
      "StandardHours                 NaN       NaN             NaN   \n",
      "StockOptionLevel        -0.007942 -0.053185        0.003323   \n",
      "TotalWorkingYears       -0.022906 -0.003670        0.012853   \n",
      "TrainingTimesLastYear   -0.012920 -0.015775       -0.017601   \n",
      "YearsAtCompany          -0.009302 -0.003710       -0.006053   \n",
      "YearsSinceLastPromotion -0.019115  0.000203        0.006898   \n",
      "YearsWithCurrManager    -0.019509 -0.020081       -0.006651   \n",
      "\n",
      "                         PerformanceRating  EnvironmentSatisfaction  \\\n",
      "hrs                               0.074885                 0.055493   \n",
      "absences                          0.013114                -0.029093   \n",
      "JobInvolvement                    0.023141                 0.013428   \n",
      "PerformanceRating                 1.000000                 0.005687   \n",
      "EnvironmentSatisfaction           0.005687                 1.000000   \n",
      "JobSatisfaction                   0.044218                -0.019356   \n",
      "WorkLifeBalance                  -0.026324                 0.025419   \n",
      "Age                              -0.031096                -0.004059   \n",
      "DistanceFromHome                  0.032894                 0.017107   \n",
      "Education                        -0.017232                -0.042553   \n",
      "EmployeeCount                          NaN                      NaN   \n",
      "EmployeeID                       -0.002129                 0.000798   \n",
      "JobLevel                          0.004684                -0.027154   \n",
      "MonthlyIncome                     0.023405                -0.001960   \n",
      "NumCompaniesWorked                0.037422                 0.013797   \n",
      "PercentSalaryHike                 0.778164                 0.007210   \n",
      "StandardHours                          NaN                      NaN   \n",
      "StockOptionLevel                 -0.021269                -0.020182   \n",
      "TotalWorkingYears                -0.023369                -0.007312   \n",
      "TrainingTimesLastYear            -0.041275                 0.011557   \n",
      "YearsAtCompany                   -0.002609                 0.007852   \n",
      "YearsSinceLastPromotion          -0.010907                 0.024474   \n",
      "YearsWithCurrManager             -0.009995                -0.008381   \n",
      "\n",
      "                         JobSatisfaction  WorkLifeBalance       Age  \\\n",
      "hrs                             0.020483        -0.021755 -0.006383   \n",
      "absences                       -0.009656        -0.021248 -0.007770   \n",
      "JobInvolvement                  0.014624        -0.024048  0.021784   \n",
      "PerformanceRating               0.044218        -0.026324 -0.031096   \n",
      "EnvironmentSatisfaction        -0.019356         0.025419 -0.004059   \n",
      "JobSatisfaction                 1.000000        -0.010978 -0.008539   \n",
      "WorkLifeBalance                -0.010978         1.000000 -0.017913   \n",
      "Age                            -0.008539        -0.017913  1.000000   \n",
      "DistanceFromHome               -0.000731         0.021251  0.015682   \n",
      "Education                      -0.013444         0.007092 -0.025082   \n",
      "EmployeeCount                        NaN              NaN       NaN   \n",
      "EmployeeID                      0.000506         0.001600  0.001263   \n",
      "JobLevel                       -0.003164        -0.028349 -0.003675   \n",
      "MonthlyIncome                  -0.015332        -0.003070 -0.034640   \n",
      "NumCompaniesWorked             -0.062199         0.002211  0.293216   \n",
      "PercentSalaryHike               0.041371        -0.036129 -0.022971   \n",
      "StandardHours                        NaN              NaN       NaN   \n",
      "StockOptionLevel                0.049105        -0.033656 -0.023024   \n",
      "TotalWorkingYears              -0.035380         0.022807  0.675674   \n",
      "TrainingTimesLastYear          -0.019431        -0.027060 -0.026836   \n",
      "YearsAtCompany                 -0.021938         0.028362  0.298203   \n",
      "YearsSinceLastPromotion        -0.021892         0.025762  0.186106   \n",
      "YearsWithCurrManager           -0.039769         0.002781  0.191797   \n",
      "\n",
      "                         DistanceFromHome  Education  ...  MonthlyIncome  \\\n",
      "hrs                              0.012110  -0.002459  ...       0.003699   \n",
      "absences                        -0.023134   0.002459  ...       0.005349   \n",
      "JobInvolvement                   0.021157  -0.008295  ...       0.010158   \n",
      "PerformanceRating                0.032894  -0.017232  ...       0.023405   \n",
      "EnvironmentSatisfaction          0.017107  -0.042553  ...      -0.001960   \n",
      "JobSatisfaction                 -0.000731  -0.013444  ...      -0.015332   \n",
      "WorkLifeBalance                  0.021251   0.007092  ...      -0.003070   \n",
      "Age                              0.015682  -0.025082  ...      -0.034640   \n",
      "DistanceFromHome                 1.000000   0.002875  ...      -0.031906   \n",
      "Education                        0.002875   1.000000  ...       0.011065   \n",
      "EmployeeCount                         NaN        NaN  ...            NaN   \n",
      "EmployeeID                      -0.009328  -0.003205  ...       0.000901   \n",
      "JobLevel                        -0.046486   0.055473  ...       0.041504   \n",
      "MonthlyIncome                   -0.031906   0.011065  ...       1.000000   \n",
      "NumCompaniesWorked              -0.000359  -0.020288  ...      -0.026383   \n",
      "PercentSalaryHike                0.026985  -0.032760  ...       0.008642   \n",
      "StandardHours                         NaN        NaN  ...            NaN   \n",
      "StockOptionLevel                 0.011160   0.000282  ...       0.031436   \n",
      "TotalWorkingYears                0.025602  -0.019636  ...      -0.031264   \n",
      "TrainingTimesLastYear            0.009325  -0.001462  ...       0.055198   \n",
      "YearsAtCompany                   0.037362   0.002053  ...       0.000194   \n",
      "YearsSinceLastPromotion         -0.005693   0.004733  ...       0.083917   \n",
      "YearsWithCurrManager             0.049468   0.000785  ...       0.030347   \n",
      "\n",
      "                         NumCompaniesWorked  PercentSalaryHike  StandardHours  \\\n",
      "hrs                               -0.029603           0.024520            NaN   \n",
      "absences                           0.018773           0.011885            NaN   \n",
      "JobInvolvement                     0.039775           0.005847            NaN   \n",
      "PerformanceRating                  0.037422           0.778164            NaN   \n",
      "EnvironmentSatisfaction            0.013797           0.007210            NaN   \n",
      "JobSatisfaction                   -0.062199           0.041371            NaN   \n",
      "WorkLifeBalance                    0.002211          -0.036129            NaN   \n",
      "Age                                0.293216          -0.022971            NaN   \n",
      "DistanceFromHome                  -0.000359           0.026985            NaN   \n",
      "Education                         -0.020288          -0.032760            NaN   \n",
      "EmployeeCount                           NaN                NaN            NaN   \n",
      "EmployeeID                         0.000095          -0.007947            NaN   \n",
      "JobLevel                          -0.005964          -0.009777            NaN   \n",
      "MonthlyIncome                     -0.026383           0.008642            NaN   \n",
      "NumCompaniesWorked                 1.000000           0.041525            NaN   \n",
      "PercentSalaryHike                  0.041525           1.000000            NaN   \n",
      "StandardHours                           NaN                NaN            NaN   \n",
      "StockOptionLevel                  -0.001801           0.019087            NaN   \n",
      "TotalWorkingYears                  0.246927          -0.033473            NaN   \n",
      "TrainingTimesLastYear             -0.023957          -0.061413            NaN   \n",
      "YearsAtCompany                    -0.121009          -0.023321            NaN   \n",
      "YearsSinceLastPromotion           -0.044104          -0.018986            NaN   \n",
      "YearsWithCurrManager              -0.090224          -0.038085            NaN   \n",
      "\n",
      "                         StockOptionLevel  TotalWorkingYears  \\\n",
      "hrs                             -0.007942          -0.022906   \n",
      "absences                        -0.053185          -0.003670   \n",
      "JobInvolvement                   0.003323           0.012853   \n",
      "PerformanceRating               -0.021269          -0.023369   \n",
      "EnvironmentSatisfaction         -0.020182          -0.007312   \n",
      "JobSatisfaction                  0.049105          -0.035380   \n",
      "WorkLifeBalance                 -0.033656           0.022807   \n",
      "Age                             -0.023024           0.675674   \n",
      "DistanceFromHome                 0.011160           0.025602   \n",
      "Education                        0.000282          -0.019636   \n",
      "EmployeeCount                         NaN                NaN   \n",
      "EmployeeID                      -0.011634           0.008748   \n",
      "JobLevel                         0.008084          -0.048499   \n",
      "MonthlyIncome                    0.031436          -0.031264   \n",
      "NumCompaniesWorked              -0.001801           0.246927   \n",
      "PercentSalaryHike                0.019087          -0.033473   \n",
      "StandardHours                         NaN                NaN   \n",
      "StockOptionLevel                 1.000000          -0.011457   \n",
      "TotalWorkingYears               -0.011457           1.000000   \n",
      "TrainingTimesLastYear           -0.074920          -0.030219   \n",
      "YearsAtCompany                   0.002076           0.643311   \n",
      "YearsSinceLastPromotion          0.030694           0.390357   \n",
      "YearsWithCurrManager             0.016276           0.470684   \n",
      "\n",
      "                         TrainingTimesLastYear  YearsAtCompany  \\\n",
      "hrs                                  -0.012920       -0.009302   \n",
      "absences                             -0.015775       -0.003710   \n",
      "JobInvolvement                       -0.017601       -0.006053   \n",
      "PerformanceRating                    -0.041275       -0.002609   \n",
      "EnvironmentSatisfaction               0.011557        0.007852   \n",
      "JobSatisfaction                      -0.019431       -0.021938   \n",
      "WorkLifeBalance                      -0.027060        0.028362   \n",
      "Age                                  -0.026836        0.298203   \n",
      "DistanceFromHome                      0.009325        0.037362   \n",
      "Education                            -0.001462        0.002053   \n",
      "EmployeeCount                              NaN             NaN   \n",
      "EmployeeID                           -0.002657       -0.002568   \n",
      "JobLevel                             -0.036994       -0.062774   \n",
      "MonthlyIncome                         0.055198        0.000194   \n",
      "NumCompaniesWorked                   -0.023957       -0.121009   \n",
      "PercentSalaryHike                    -0.061413       -0.023321   \n",
      "StandardHours                              NaN             NaN   \n",
      "StockOptionLevel                     -0.074920        0.002076   \n",
      "TotalWorkingYears                    -0.030219        0.643311   \n",
      "TrainingTimesLastYear                 1.000000       -0.004374   \n",
      "YearsAtCompany                       -0.004374        1.000000   \n",
      "YearsSinceLastPromotion               0.014359        0.612754   \n",
      "YearsWithCurrManager                 -0.036070        0.762643   \n",
      "\n",
      "                         YearsSinceLastPromotion  YearsWithCurrManager  \n",
      "hrs                                    -0.019115             -0.019509  \n",
      "absences                                0.000203             -0.020081  \n",
      "JobInvolvement                          0.006898             -0.006651  \n",
      "PerformanceRating                      -0.010907             -0.009995  \n",
      "EnvironmentSatisfaction                 0.024474             -0.008381  \n",
      "JobSatisfaction                        -0.021892             -0.039769  \n",
      "WorkLifeBalance                         0.025762              0.002781  \n",
      "Age                                     0.186106              0.191797  \n",
      "DistanceFromHome                       -0.005693              0.049468  \n",
      "Education                               0.004733              0.000785  \n",
      "EmployeeCount                                NaN                   NaN  \n",
      "EmployeeID                              0.005057              0.010502  \n",
      "JobLevel                               -0.063549             -0.077575  \n",
      "MonthlyIncome                           0.083917              0.030347  \n",
      "NumCompaniesWorked                     -0.044104             -0.090224  \n",
      "PercentSalaryHike                      -0.018986             -0.038085  \n",
      "StandardHours                                NaN                   NaN  \n",
      "StockOptionLevel                        0.030694              0.016276  \n",
      "TotalWorkingYears                       0.390357              0.470684  \n",
      "TrainingTimesLastYear                   0.014359             -0.036070  \n",
      "YearsAtCompany                          0.612754              0.762643  \n",
      "YearsSinceLastPromotion                 1.000000              0.509090  \n",
      "YearsWithCurrManager                    0.509090              1.000000  \n",
      "\n",
      "[23 rows x 23 columns]\n"
     ]
    },
    {
     "name": "stderr",
     "output_type": "stream",
     "text": [
      "C:\\Users\\alvar\\AppData\\Local\\Temp\\ipykernel_17672\\406082983.py:1: FutureWarning: The default value of numeric_only in DataFrame.corr is deprecated. In a future version, it will default to False. Select only valid columns or specify the value of numeric_only to silence this warning.\n",
      "  corr_matrix = data.corr()\n"
     ]
    },
    {
     "data": {
      "text/plain": [
       "<Axes: >"
      ]
     },
     "execution_count": 7,
     "metadata": {},
     "output_type": "execute_result"
    },
    {
     "data": {
      "image/png": "[encoded data removed]",
      "text/plain": [
       "<Figure size 640x480 with 2 Axes>"
      ]
     },
     "metadata": {},
     "output_type": "display_data"
    }
   ],
   "source": [
    "corr_matrix = data.corr()\n",
    "print(\"La matriz de correlacion es: \\n\")\n",
    "print(corr_matrix)\n",
    "sea.heatmap(corr_matrix)"
   ]
  },
  {
   "attachments": {},
   "cell_type": "markdown",
   "metadata": {},
   "source": [
    "Como podemos ver, no todas las columnas que cuenta la base de datos están incluidas en esta matriz. La razón de ello es que automáticamente se han excluido las que son strings ya que no tendría sentido incluirlas. Existe la opción de realizar a estas alturas de la práctica la conversión de string a enteros pero creemos que por la simplicidad necesaria de este EDA y por organizar mejor la práctica no lo haremos todavía.\n",
    "\n",
    "Si echamos un vistazo a la gráfica, podemos ver que exceptuando casos muy resaltados de correlación 1 que muestran que son variables que dependen completamente unas de las otras de forma directa (color blanco y similares), el color predominante es el morado. Este color en este tono, según la leyenda de la gráfica, consiste en correlación 0 o ligeramente negativa lo que nos indica que realmente los atributos que utilizaremos en esta práctica son bastante independientes unos de los otros y de depender algo, normalmente el aumento en el valor de una provocará un ligerísimo descenso en la otra.\n",
    "\n",
    "El caso de correlación más negativa es el de las variables \"hrs\" y \"absences\" lo cual tiene sentido que ocurra pues, cuantas más horas de trabajo tengas, menos faltas de asistencia tendrás."
   ]
  },
  {
   "attachments": {},
   "cell_type": "markdown",
   "metadata": {},
   "source": [
    "Ahora que hemos concluido el EDA, toca analizar una de las carácterísticas más importantes propias de los problemas de clasificación como este que estamos tratando. Se trata de el desbalanceamiento. Para comprobar si los datos están desbalanceados debemos separar los valores de \"Attrition\" según si son positivos (\"Yes\") o negativos (\"No\")."
   ]
  },
  {
   "cell_type": "code",
   "execution_count": 8,
   "metadata": {},
   "outputs": [
    {
     "name": "stdout",
     "output_type": "stream",
     "text": [
      "El numero de positivos es: 711\n",
      "El numero de negativos es: 3699\n"
     ]
    }
   ],
   "source": [
    "num_pos = data['Attrition'].value_counts()['Yes']\n",
    "num_neg = data['Attrition'].value_counts()['No']\n",
    "\n",
    "print(\"El numero de positivos es: {}\".format(num_pos))\n",
    "print(\"El numero de negativos es: {}\".format(num_neg))"
   ]
  },
  {
   "attachments": {},
   "cell_type": "markdown",
   "metadata": {},
   "source": [
    "Queda claro al ver los resultados que la diferencia entre datos positivos y negativos es bastante considerable. Esto significa que los datos no están balanceados y tenemos que tener cuidado a la hora de separar los datos y por ello debemos recurrir a técnicas que nos permitan tratar este problema y evitar que el modelo se decante por la clase mayoritaria siempre."
   ]
  },
  {
   "attachments": {},
   "cell_type": "markdown",
   "metadata": {},
   "source": [
    "Importamos lo necesario para tratar con sklearn."
   ]
  },
  {
   "cell_type": "code",
   "execution_count": 9,
   "metadata": {},
   "outputs": [],
   "source": [
    "from sklearn.linear_model import LogisticRegression\n",
    "from sklearn.model_selection import train_test_split\n",
    "from sklearn.model_selection import StratifiedKFold\n",
    "from sklearn.compose import ColumnTransformer\n",
    "from sklearn.pipeline import Pipeline\n",
    "from sklearn.preprocessing import OneHotEncoder, StandardScaler\n",
    "from sklearn.metrics import balanced_accuracy_score, f1_score, confusion_matrix\n",
    "from sklearn.pipeline import Pipeline\n",
    "from sklearn.compose import ColumnTransformer\n",
    "from sklearn.preprocessing import OneHotEncoder\n",
    "from sklearn.model_selection import GridSearchCV"
   ]
  },
  {
   "attachments": {},
   "cell_type": "markdown",
   "metadata": {},
   "source": [
    "Para comprobar que los datos efectivamente no se dividen de forma igualitaria, vamos a separar primero la salida (\"Attrition\") de los datos y posteriormente cambiar las strings del mismo por números enteros.\n",
    "\n",
    "\n",
    "Modificamos la columna de salida de los valores Yes/No a 1/0 para poder sacar los porcentajes de instancias."
   ]
  },
  {
   "cell_type": "code",
   "execution_count": 10,
   "metadata": {},
   "outputs": [],
   "source": [
    "# Separamos Attrition del resto de variables\n",
    "X = data.drop('Attrition', axis=1)\n",
    "y = data['Attrition']\n",
    "\n",
    "# Creamos un diccionario para mapear yes/no a 1/0\n",
    "mapD = {\"Yes\": 1, \"No\": 0}\n",
    "\n",
    "# Lo usamos para mapear Attrition\n",
    "y = y.map(mapD)"
   ]
  },
  {
   "attachments": {},
   "cell_type": "markdown",
   "metadata": {},
   "source": [
    "Ahora que tenemos la salida lista, vamos a separar primero los datos en train y test de forma normal para comprobar si debemos aplicar alguna estratificación por el desbalanceo."
   ]
  },
  {
   "cell_type": "code",
   "execution_count": 11,
   "metadata": {},
   "outputs": [],
   "source": [
    "X_train, X_test, y_train, y_test = train_test_split(X, y, test_size = 0.2)"
   ]
  },
  {
   "attachments": {},
   "cell_type": "markdown",
   "metadata": {},
   "source": [
    "A continuación comprobamos cómo están distribuidas las clases."
   ]
  },
  {
   "cell_type": "code",
   "execution_count": 12,
   "metadata": {},
   "outputs": [
    {
     "name": "stdout",
     "output_type": "stream",
     "text": [
      "[TOTAL]: Porcentaje de instancias positivas: 16.122448979591837 %\n",
      "[TRAIN]: Porcentaje de instancias positivas: 16.04308390022676 %\n",
      "[TEST]: Porcentaje de instancias positivas: 16.439909297052154 %\n"
     ]
    }
   ],
   "source": [
    "total_positivas = num_pos / (num_pos + num_neg)\n",
    "train_positivas = np.sum(y_train) / len(y_train)\n",
    "test_positivas = np.sum(y_test) / len(y_test)\n",
    "print(\"[TOTAL]: Porcentaje de instancias positivas: {} %\".format(total_positivas*100))\n",
    "print(\"[TRAIN]: Porcentaje de instancias positivas: {} %\".format(train_positivas*100))\n",
    "print(\"[TEST]: Porcentaje de instancias positivas: {} %\".format(test_positivas*100))"
   ]
  },
  {
   "attachments": {},
   "cell_type": "markdown",
   "metadata": {},
   "source": [
    "Como podemos ver, los valores no son iguales lo que significa que a continuación deberemos volver a crear train y test pero con una división estratificada de los datos."
   ]
  },
  {
   "cell_type": "code",
   "execution_count": 13,
   "metadata": {},
   "outputs": [
    {
     "name": "stdout",
     "output_type": "stream",
     "text": [
      "[TOTAL]: Porcentaje de instancias positivas: 16.122448979591837 %\n",
      "[TRAIN]: Porcentaje de instancias positivas: 16.1281179138322 %\n",
      "[TEST]: Porcentaje de instancias positivas: 16.099773242630384 %\n"
     ]
    }
   ],
   "source": [
    "# Hacemos la división estratificada\n",
    "X_train, X_test, y_train, y_test = train_test_split(X, y, test_size = 0.2, stratify=y, random_state=21)\n",
    "\n",
    "# Volvemos a calcular los valores\n",
    "total_positivas = num_pos / (num_pos + num_neg)\n",
    "train_positivas = np.sum(y_train) / len(y_train)\n",
    "test_positivas = np.sum(y_test) / len(y_test)\n",
    "\n",
    "print(\"[TOTAL]: Porcentaje de instancias positivas: {} %\".format(total_positivas*100))\n",
    "print(\"[TRAIN]: Porcentaje de instancias positivas: {} %\".format(train_positivas*100))\n",
    "print(\"[TEST]: Porcentaje de instancias positivas: {} %\".format(test_positivas*100))"
   ]
  },
  {
   "attachments": {},
   "cell_type": "markdown",
   "metadata": {},
   "source": [
    "Al hacer la división de esta manera vemos que los porcentajes son casi iguales.\n",
    "\n",
    "La última parte del proceso de estratificación es un proceso de validación cruzada con StratifiedKFold."
   ]
  },
  {
   "cell_type": "code",
   "execution_count": 14,
   "metadata": {},
   "outputs": [
    {
     "name": "stdout",
     "output_type": "stream",
     "text": [
      "FOLD 1:\n",
      "[TRAIN TRAIN]: Porcentaje de entradas positivas: 16.125984251968504\n",
      "[TRAIN TEST]: Porcentaje de entradas positivas: 16.147308781869686\n",
      "\n",
      "FOLD 2:\n",
      "[TRAIN TRAIN]: Porcentaje de entradas positivas: 16.125984251968504\n",
      "[TRAIN TEST]: Porcentaje de entradas positivas: 16.147308781869686\n",
      "\n",
      "FOLD 3:\n",
      "[TRAIN TRAIN]: Porcentaje de entradas positivas: 16.125984251968504\n",
      "[TRAIN TEST]: Porcentaje de entradas positivas: 16.147308781869686\n",
      "\n",
      "FOLD 4:\n",
      "[TRAIN TRAIN]: Porcentaje de entradas positivas: 16.125984251968504\n",
      "[TRAIN TEST]: Porcentaje de entradas positivas: 16.147308781869686\n",
      "\n",
      "FOLD 5:\n",
      "[TRAIN TRAIN]: Porcentaje de entradas positivas: 16.125984251968504\n",
      "[TRAIN TEST]: Porcentaje de entradas positivas: 16.147308781869686\n",
      "\n",
      "FOLD 6:\n",
      "[TRAIN TRAIN]: Porcentaje de entradas positivas: 16.125984251968504\n",
      "[TRAIN TEST]: Porcentaje de entradas positivas: 16.147308781869686\n",
      "\n",
      "FOLD 7:\n",
      "[TRAIN TRAIN]: Porcentaje de entradas positivas: 16.125984251968504\n",
      "[TRAIN TEST]: Porcentaje de entradas positivas: 16.147308781869686\n",
      "\n",
      "FOLD 8:\n",
      "[TRAIN TRAIN]: Porcentaje de entradas positivas: 16.125984251968504\n",
      "[TRAIN TEST]: Porcentaje de entradas positivas: 16.147308781869686\n",
      "\n",
      "FOLD 9:\n",
      "[TRAIN TRAIN]: Porcentaje de entradas positivas: 16.152392947103277\n",
      "[TRAIN TEST]: Porcentaje de entradas positivas: 15.909090909090908\n",
      "\n",
      "FOLD 10:\n",
      "[TRAIN TRAIN]: Porcentaje de entradas positivas: 16.120906801007557\n",
      "[TRAIN TEST]: Porcentaje de entradas positivas: 16.193181818181817\n",
      "\n"
     ]
    }
   ],
   "source": [
    "# Usaremos 4 pliegues\n",
    "cv = StratifiedKFold(n_splits=10)\n",
    "n_fold = 1\n",
    "\n",
    "for train_ix, test_ix in cv.split(X_train, y_train):\n",
    "\n",
    "    y_train_train = y_train.iloc[train_ix]\n",
    "    y_train_test = y_train.iloc[test_ix]\n",
    "\n",
    "    train_train_positivas = np.sum(y_train_train) / len(y_train_train)\n",
    "    train_test_positivas = np.sum(y_train_test) / len(y_train_test)\n",
    "\n",
    "    print(\"FOLD {}:\".format(n_fold))\n",
    "    print(\"[TRAIN TRAIN]: Porcentaje de entradas positivas: {}\".format(100 * train_train_positivas))\n",
    "    print(\"[TRAIN TEST]: Porcentaje de entradas positivas: {}\\n\".format(100 * train_test_positivas))\n",
    "\n",
    "    n_fold += 1"
   ]
  },
  {
   "attachments": {},
   "cell_type": "markdown",
   "metadata": {},
   "source": [
    "Aunque los porcentajes no son exactamente igual, podemos ver que son muy similares."
   ]
  },
  {
   "attachments": {},
   "cell_type": "markdown",
   "metadata": {},
   "source": [
    "El siguiente paso de la práctica es construir los modelos. El primero que se pide es el de LogisticRegression."
   ]
  },
  {
   "cell_type": "code",
   "execution_count": 15,
   "metadata": {},
   "outputs": [
    {
     "data": {
      "text/html": [
       "<style>#sk-container-id-1 {color: black;background-color: white;}#sk-container-id-1 pre{padding: 0;}#sk-container-id-1 div.sk-toggleable {background-color: white;}#sk-container-id-1 label.sk-toggleable__label {cursor: pointer;display: block;width: 100%;margin-bottom: 0;padding: 0.3em;box-sizing: border-box;text-align: center;}#sk-container-id-1 label.sk-toggleable__label-arrow:before {content: \"▸\";float: left;margin-right: 0.25em;color: #696969;}#sk-container-id-1 label.sk-toggleable__label-arrow:hover:before {color: black;}#sk-container-id-1 div.sk-estimator:hover label.sk-toggleable__label-arrow:before {color: black;}#sk-container-id-1 div.sk-toggleable__content {max-height: 0;max-width: 0;overflow: hidden;text-align: left;background-color: #f0f8ff;}#sk-container-id-1 div.sk-toggleable__content pre {margin: 0.2em;color: black;border-radius: 0.25em;background-color: #f0f8ff;}#sk-container-id-1 input.sk-toggleable__control:checked~div.sk-toggleable__content {max-height: 200px;max-width: 100%;overflow: auto;}#sk-container-id-1 input.sk-toggleable__control:checked~label.sk-toggleable__label-arrow:before {content: \"▾\";}#sk-container-id-1 div.sk-estimator input.sk-toggleable__control:checked~label.sk-toggleable__label {background-color: #d4ebff;}#sk-container-id-1 div.sk-label input.sk-toggleable__control:checked~label.sk-toggleable__label {background-color: #d4ebff;}#sk-container-id-1 input.sk-hidden--visually {border: 0;clip: rect(1px 1px 1px 1px);clip: rect(1px, 1px, 1px, 1px);height: 1px;margin: -1px;overflow: hidden;padding: 0;position: absolute;width: 1px;}#sk-container-id-1 div.sk-estimator {font-family: monospace;background-color: #f0f8ff;border: 1px dotted black;border-radius: 0.25em;box-sizing: border-box;margin-bottom: 0.5em;}#sk-container-id-1 div.sk-estimator:hover {background-color: #d4ebff;}#sk-container-id-1 div.sk-parallel-item::after {content: \"\";width: 100%;border-bottom: 1px solid gray;flex-grow: 1;}#sk-container-id-1 div.sk-label:hover label.sk-toggleable__label {background-color: #d4ebff;}#sk-container-id-1 div.sk-serial::before {content: \"\";position: absolute;border-left: 1px solid gray;box-sizing: border-box;top: 0;bottom: 0;left: 50%;z-index: 0;}#sk-container-id-1 div.sk-serial {display: flex;flex-direction: column;align-items: center;background-color: white;padding-right: 0.2em;padding-left: 0.2em;position: relative;}#sk-container-id-1 div.sk-item {position: relative;z-index: 1;}#sk-container-id-1 div.sk-parallel {display: flex;align-items: stretch;justify-content: center;background-color: white;position: relative;}#sk-container-id-1 div.sk-item::before, #sk-container-id-1 div.sk-parallel-item::before {content: \"\";position: absolute;border-left: 1px solid gray;box-sizing: border-box;top: 0;bottom: 0;left: 50%;z-index: -1;}#sk-container-id-1 div.sk-parallel-item {display: flex;flex-direction: column;z-index: 1;position: relative;background-color: white;}#sk-container-id-1 div.sk-parallel-item:first-child::after {align-self: flex-end;width: 50%;}#sk-container-id-1 div.sk-parallel-item:last-child::after {align-self: flex-start;width: 50%;}#sk-container-id-1 div.sk-parallel-item:only-child::after {width: 0;}#sk-container-id-1 div.sk-dashed-wrapped {border: 1px dashed gray;margin: 0 0.4em 0.5em 0.4em;box-sizing: border-box;padding-bottom: 0.4em;background-color: white;}#sk-container-id-1 div.sk-label label {font-family: monospace;font-weight: bold;display: inline-block;line-height: 1.2em;}#sk-container-id-1 div.sk-label-container {text-align: center;}#sk-container-id-1 div.sk-container {/* jupyter's `normalize.less` sets `[hidden] { display: none; }` but bootstrap.min.css set `[hidden] { display: none !important; }` so we also need the `!important` here to be able to override the default hidden behavior on the sphinx rendered scikit-learn.org. See: https://github.com/scikit-learn/scikit-learn/issues/21755 */display: inline-block !important;position: relative;}#sk-container-id-1 div.sk-text-repr-fallback {display: none;}</style><div id=\"sk-container-id-1\" class=\"sk-top-container\"><div class=\"sk-text-repr-fallback\"><pre>Pipeline(steps=[(&#x27;preprocessor&#x27;,\n",
       "                 ColumnTransformer(transformers=[(&#x27;cat&#x27;,\n",
       "                                                  Pipeline(steps=[(&#x27;onehot&#x27;,\n",
       "                                                                   OneHotEncoder(handle_unknown=&#x27;ignore&#x27;))]),\n",
       "                                                  [&#x27;BusinessTravel&#x27;,\n",
       "                                                   &#x27;Department&#x27;,\n",
       "                                                   &#x27;EducationField&#x27;, &#x27;Gender&#x27;,\n",
       "                                                   &#x27;JobRole&#x27;, &#x27;MaritalStatus&#x27;,\n",
       "                                                   &#x27;Over18&#x27;])])),\n",
       "                (&#x27;classifier&#x27;,\n",
       "                 LogisticRegression(class_weight=&#x27;balanced&#x27;, random_state=21))])</pre><b>In a Jupyter environment, please rerun this cell to show the HTML representation or trust the notebook. <br />On GitHub, the HTML representation is unable to render, please try loading this page with nbviewer.org.</b></div><div class=\"sk-container\" hidden><div class=\"sk-item sk-dashed-wrapped\"><div class=\"sk-label-container\"><div class=\"sk-label sk-toggleable\"><input class=\"sk-toggleable__control sk-hidden--visually\" id=\"sk-estimator-id-1\" type=\"checkbox\" ><label for=\"sk-estimator-id-1\" class=\"sk-toggleable__label sk-toggleable__label-arrow\">Pipeline</label><div class=\"sk-toggleable__content\"><pre>Pipeline(steps=[(&#x27;preprocessor&#x27;,\n",
       "                 ColumnTransformer(transformers=[(&#x27;cat&#x27;,\n",
       "                                                  Pipeline(steps=[(&#x27;onehot&#x27;,\n",
       "                                                                   OneHotEncoder(handle_unknown=&#x27;ignore&#x27;))]),\n",
       "                                                  [&#x27;BusinessTravel&#x27;,\n",
       "                                                   &#x27;Department&#x27;,\n",
       "                                                   &#x27;EducationField&#x27;, &#x27;Gender&#x27;,\n",
       "                                                   &#x27;JobRole&#x27;, &#x27;MaritalStatus&#x27;,\n",
       "                                                   &#x27;Over18&#x27;])])),\n",
       "                (&#x27;classifier&#x27;,\n",
       "                 LogisticRegression(class_weight=&#x27;balanced&#x27;, random_state=21))])</pre></div></div></div><div class=\"sk-serial\"><div class=\"sk-item sk-dashed-wrapped\"><div class=\"sk-label-container\"><div class=\"sk-label sk-toggleable\"><input class=\"sk-toggleable__control sk-hidden--visually\" id=\"sk-estimator-id-2\" type=\"checkbox\" ><label for=\"sk-estimator-id-2\" class=\"sk-toggleable__label sk-toggleable__label-arrow\">preprocessor: ColumnTransformer</label><div class=\"sk-toggleable__content\"><pre>ColumnTransformer(transformers=[(&#x27;cat&#x27;,\n",
       "                                 Pipeline(steps=[(&#x27;onehot&#x27;,\n",
       "                                                  OneHotEncoder(handle_unknown=&#x27;ignore&#x27;))]),\n",
       "                                 [&#x27;BusinessTravel&#x27;, &#x27;Department&#x27;,\n",
       "                                  &#x27;EducationField&#x27;, &#x27;Gender&#x27;, &#x27;JobRole&#x27;,\n",
       "                                  &#x27;MaritalStatus&#x27;, &#x27;Over18&#x27;])])</pre></div></div></div><div class=\"sk-parallel\"><div class=\"sk-parallel-item\"><div class=\"sk-item\"><div class=\"sk-label-container\"><div class=\"sk-label sk-toggleable\"><input class=\"sk-toggleable__control sk-hidden--visually\" id=\"sk-estimator-id-3\" type=\"checkbox\" ><label for=\"sk-estimator-id-3\" class=\"sk-toggleable__label sk-toggleable__label-arrow\">cat</label><div class=\"sk-toggleable__content\"><pre>[&#x27;BusinessTravel&#x27;, &#x27;Department&#x27;, &#x27;EducationField&#x27;, &#x27;Gender&#x27;, &#x27;JobRole&#x27;, &#x27;MaritalStatus&#x27;, &#x27;Over18&#x27;]</pre></div></div></div><div class=\"sk-serial\"><div class=\"sk-item\"><div class=\"sk-serial\"><div class=\"sk-item\"><div class=\"sk-estimator sk-toggleable\"><input class=\"sk-toggleable__control sk-hidden--visually\" id=\"sk-estimator-id-4\" type=\"checkbox\" ><label for=\"sk-estimator-id-4\" class=\"sk-toggleable__label sk-toggleable__label-arrow\">OneHotEncoder</label><div class=\"sk-toggleable__content\"><pre>OneHotEncoder(handle_unknown=&#x27;ignore&#x27;)</pre></div></div></div></div></div></div></div></div></div></div><div class=\"sk-item\"><div class=\"sk-estimator sk-toggleable\"><input class=\"sk-toggleable__control sk-hidden--visually\" id=\"sk-estimator-id-5\" type=\"checkbox\" ><label for=\"sk-estimator-id-5\" class=\"sk-toggleable__label sk-toggleable__label-arrow\">LogisticRegression</label><div class=\"sk-toggleable__content\"><pre>LogisticRegression(class_weight=&#x27;balanced&#x27;, random_state=21)</pre></div></div></div></div></div></div></div>"
      ],
      "text/plain": [
       "Pipeline(steps=[('preprocessor',\n",
       "                 ColumnTransformer(transformers=[('cat',\n",
       "                                                  Pipeline(steps=[('onehot',\n",
       "                                                                   OneHotEncoder(handle_unknown='ignore'))]),\n",
       "                                                  ['BusinessTravel',\n",
       "                                                   'Department',\n",
       "                                                   'EducationField', 'Gender',\n",
       "                                                   'JobRole', 'MaritalStatus',\n",
       "                                                   'Over18'])])),\n",
       "                ('classifier',\n",
       "                 LogisticRegression(class_weight='balanced', random_state=21))])"
      ]
     },
     "execution_count": 15,
     "metadata": {},
     "output_type": "execute_result"
    }
   ],
   "source": [
    "# Creamos el OneHotEncoder para las variables categóricas\n",
    "string_transformer = Pipeline(steps=[\n",
    "    ('onehot', OneHotEncoder(handle_unknown='ignore'))\n",
    "])\n",
    "\n",
    "procesador = ColumnTransformer(\n",
    "    transformers=[\n",
    "        ('cat', string_transformer, ['BusinessTravel', 'Department', 'EducationField', 'Gender', 'JobRole', 'MaritalStatus', 'Over18'])\n",
    "    ])\n",
    "    \n",
    "np.random.seed(21)\n",
    "\n",
    "# Creamos el Pipeline es importante poner class_weight = \"balanced\" para que tenga en cuenta el desbalanceo\n",
    "pipeline = Pipeline(steps=[('preprocessor', procesador),\n",
    "                           ('classifier', LogisticRegression(class_weight=\"balanced\", random_state=21))])\n",
    "\n",
    "# Entrenamos el modelo\n",
    "pipeline.fit(X_train, y_train)\n",
    "\n"
   ]
  },
  {
   "cell_type": "code",
   "execution_count": 16,
   "metadata": {},
   "outputs": [
    {
     "name": "stdout",
     "output_type": "stream",
     "text": [
      "[LOGISTIC REGRESSION]: La BALANCED_ACCURACCY es: 0.6137704606014465\n",
      "[LOGISTIC REGRESSION]: La F1_SCORE es: 0.3385214007782101\n",
      "[LOGISTIC REGRESSION]: La MATRIZ DE CONFUSIÓN es: [[455 285]\n",
      " [ 55  87]]\n"
     ]
    }
   ],
   "source": [
    "# Hacemos predicciones\n",
    "y_pred = pipeline.predict(X_test)\n",
    "\n",
    "# Calculamos las métricas pedidas en el enunciado\n",
    "balanced_acc = balanced_accuracy_score(y_test, y_pred)\n",
    "f1 = f1_score(y_test, y_pred)\n",
    "cm = confusion_matrix(y_test, y_pred)\n",
    "\n",
    "print(\"[LOGISTIC REGRESSION]: La BALANCED_ACCURACCY es: {}\".format(balanced_acc))\n",
    "print(\"[LOGISTIC REGRESSION]: La F1_SCORE es: {}\".format(f1))\n",
    "print(\"[LOGISTIC REGRESSION]: La MATRIZ DE CONFUSIÓN es: {}\".format(cm))\n",
    "\n",
    "resultados[\"LOGISTIC REGRESSION\"] = [balanced_acc, f1, cm]\n"
   ]
  },
  {
   "attachments": {},
   "cell_type": "markdown",
   "metadata": {},
   "source": [
    "Los resultados obtenidos con este método no son muy buenos ya que solo son ligeramente mejores que el azar. \n",
    "\n",
    "El siguiente método pedido es un método de Boosting a elegir. Existe la opción de utilizar los de sklearn, sin embargo, ya que hay una bonificación en la nota por utilizar librerías externas, vamos aprobar a utilizar XGBClassifier de la librería xgboost. Primero usaremos el modelo sin ajustar hiperparámetros para compararlo con el que sí después."
   ]
  },
  {
   "cell_type": "code",
   "execution_count": 17,
   "metadata": {},
   "outputs": [
    {
     "name": "stdout",
     "output_type": "stream",
     "text": [
      "[BOOSTING LIGHTGBM]: La BALANCED_ACCURACCY es: 0.5403692424819185\n",
      "[BOOSTING LIGHTGBM]: La F1_SCORE es: 0.15950920245398773\n",
      "[BOOSTING LIGHTGBM]: La MATRIZ DE CONFUSIÓN es: [[732   8]\n",
      " [129  13]]\n"
     ]
    }
   ],
   "source": [
    "# Usaremos la librería lightgbm para entrenar un modelo de boosting\n",
    "from lightgbm import LGBMClassifier\n",
    "\n",
    "# Creamos los transformadores con OneHotEncoder\n",
    "string_transformer_boost = Pipeline(steps=[\n",
    "    ('onehot', OneHotEncoder(handle_unknown='ignore'))\n",
    "])\n",
    "\n",
    "procesador_boost = ColumnTransformer(\n",
    "    transformers=[\n",
    "        ('cat', string_transformer_boost, ['BusinessTravel', 'Department', 'EducationField', 'Gender', 'JobRole', 'MaritalStatus', 'Over18']), # columnas con datos categóricos\n",
    "    ])\n",
    "\n",
    "# Usaremos un StratifiedKFold \n",
    "cv = StratifiedKFold(n_splits=5)\n",
    "\n",
    "# Construimos el pipeline\n",
    "pipeline_boost = Pipeline(steps=[('preprocessor', procesador_boost),\n",
    "                           ('classifier', LGBMClassifier(random_state=21))])\n",
    "\n",
    "# Entrenamos el modelo\n",
    "pipeline_boost.fit(X_train, y_train)\n",
    "\n",
    "# Hacemos predicciones\n",
    "y_pred = pipeline_boost.predict(X_test)\n",
    "\n",
    "# Calculamos las métricas pedidas en el enunciado\n",
    "balanced_acc = balanced_accuracy_score(y_test, y_pred)\n",
    "f1 = f1_score(y_test, y_pred)\n",
    "cm = confusion_matrix(y_test, y_pred)\n",
    "\n",
    "print(\"[BOOSTING LIGHTGBM]: La BALANCED_ACCURACCY es: {}\".format(balanced_acc))\n",
    "print(\"[BOOSTING LIGHTGBM]: La F1_SCORE es: {}\".format(f1))\n",
    "print(\"[BOOSTING LIGHTGBM]: La MATRIZ DE CONFUSIÓN es: {}\".format(cm))\n",
    "\n",
    "resultados[\"BOOSTING LIGHTGBM\"] = [balanced_acc, f1, cm]"
   ]
  },
  {
   "attachments": {},
   "cell_type": "markdown",
   "metadata": {},
   "source": [
    "Ahora lo hacemos de nuevo ajustando hiperparámetros."
   ]
  },
  {
   "cell_type": "code",
   "execution_count": 18,
   "metadata": {},
   "outputs": [
    {
     "data": {
      "text/plain": [
       "({'classifier__learning_rate': 0.1,\n",
       "  'classifier__max_depth': -1,\n",
       "  'classifier__min_child_samples': 10,\n",
       "  'classifier__n_estimators': 100,\n",
       "  'classifier__num_leaves': 31,\n",
       "  'classifier__subsample': 0.1},\n",
       " -0.638475881279912)"
      ]
     },
     "execution_count": 18,
     "metadata": {},
     "output_type": "execute_result"
    }
   ],
   "source": [
    "from lightgbm import LGBMClassifier\n",
    "\n",
    "# Variable para tratar el desbalanceo\n",
    "weight = num_neg / num_pos\n",
    "\n",
    "# Creamos los tranformadores con OneHotEncoder\n",
    "string_transformer_boost = Pipeline(steps=[\n",
    "    ('onehot', OneHotEncoder(handle_unknown='ignore'))\n",
    "])\n",
    "\n",
    "procesador_boost = ColumnTransformer(\n",
    "    transformers=[\n",
    "        ('cat', string_transformer_boost, ['BusinessTravel', 'Department', 'EducationField', 'Gender', 'JobRole', 'MaritalStatus', 'Over18']), # columnas con datos categóricos\n",
    "    ])\n",
    "\n",
    "# Construimos el pipeline\n",
    "pipeline_boost = Pipeline(steps=[('preprocessor', procesador_boost),\n",
    "                           ('classifier', LGBMClassifier(is_unbalance=True, random_state=21))])\n",
    "\n",
    "# Creamos diccionario con los parámetros que usaremos en el GridSearch\n",
    "param_grid = {\n",
    "    'classifier__learning_rate': [0.1, 0.4], # 0.1\n",
    "    'classifier__max_depth': [-1, 10], # -1\n",
    "    'classifier__n_estimators': [100, 110], # 100\n",
    "    'classifier__num_leaves': [31, 91], # 31\n",
    "    'classifier__min_child_samples': [10, 20], # 20\n",
    "    'classifier__subsample': [0.1, 1], # 1\n",
    "}\n",
    "\n",
    "# Usaremos un StratifiedKFold como cv para el balanceo\n",
    "cv_STR = StratifiedKFold(n_splits=5)\n",
    "\n",
    "# Creamos el GridSearch\n",
    "grid_search = GridSearchCV(pipeline_boost, param_grid=param_grid, cv=cv_STR, n_jobs=-1, scoring='balanced_accuracy')\n",
    "\n",
    "# Entrenamos el modelo\n",
    "grid_search.fit(X_train, y_train)\n",
    "\n",
    "# Parámetros obtenidos\n",
    "grid_search.best_params_, -grid_search.best_score_"
   ]
  },
  {
   "attachments": {},
   "cell_type": "markdown",
   "metadata": {},
   "source": [
    "Por último comprobamos si el modelo que hemos obtenido ha mejorado haciendo las predicciones y calculando las métricas pedidas."
   ]
  },
  {
   "cell_type": "code",
   "execution_count": 19,
   "metadata": {},
   "outputs": [
    {
     "name": "stdout",
     "output_type": "stream",
     "text": [
      "[BOOSTING LIGHTGBM MODIFICADO]: La BALANCED_ACCURACCY es: 0.6545964979063571\n",
      "[BOOSTING LIGHTGBM MODIFICADO]: La F1_SCORE es: 0.38197424892703863\n",
      "[BOOSTING LIGHTGBM MODIFICADO]: La MATRIZ DE CONFUSIÓN es: [[505 235]\n",
      " [ 53  89]]\n"
     ]
    }
   ],
   "source": [
    "# Hacemos predicciones\n",
    "y_pred = grid_search.predict(X_test)\n",
    "\n",
    "# Calculamos las métricas pedidas en el enunciado\n",
    "balanced_acc_boost = balanced_accuracy_score(y_test, y_pred)\n",
    "f1_boost = f1_score(y_test, y_pred)\n",
    "cm_boost = confusion_matrix(y_test, y_pred)\n",
    "\n",
    "print(\"[BOOSTING LIGHTGBM MODIFICADO]: La BALANCED_ACCURACCY es: {}\".format(balanced_acc_boost))\n",
    "print(\"[BOOSTING LIGHTGBM MODIFICADO]: La F1_SCORE es: {}\".format(f1_boost))\n",
    "print(\"[BOOSTING LIGHTGBM MODIFICADO]: La MATRIZ DE CONFUSIÓN es: {}\".format(cm_boost))\n",
    "\n",
    "resultados[\"BOOSTING LIGHTGBM MODIFICADO\"] = [balanced_acc_boost, f1_boost, cm_boost]"
   ]
  },
  {
   "attachments": {},
   "cell_type": "markdown",
   "metadata": {},
   "source": [
    "Ahora que tenemos todos los modelos, vamos a imprimir los valores obtenidos todos juntos para hacer comparaciones."
   ]
  },
  {
   "cell_type": "code",
   "execution_count": 20,
   "metadata": {},
   "outputs": [
    {
     "name": "stdout",
     "output_type": "stream",
     "text": [
      "[LOGISTIC REGRESSION]: La BALANCED_ACCURACCY es: 0.6137704606014465\n",
      "[LOGISTIC REGRESSION]: La F1_SCORE es: 0.3385214007782101\n",
      "[LOGISTIC REGRESSION]: La MATRIZ DE CONFUSIÓN es: [[455 285]\n",
      " [ 55  87]]\n",
      "---------------------------------------------------------------\n",
      "[BOOSTING LIGHTGBM]: La BALANCED_ACCURACCY es: 0.5403692424819185\n",
      "[BOOSTING LIGHTGBM]: La F1_SCORE es: 0.15950920245398773\n",
      "[BOOSTING LIGHTGBM]: La MATRIZ DE CONFUSIÓN es: [[732   8]\n",
      " [129  13]]\n",
      "---------------------------------------------------------------\n",
      "[BOOSTING LIGHTGBM MODIFICADO]: La BALANCED_ACCURACCY es: 0.6545964979063571\n",
      "[BOOSTING LIGHTGBM MODIFICADO]: La F1_SCORE es: 0.38197424892703863\n",
      "[BOOSTING LIGHTGBM MODIFICADO]: La MATRIZ DE CONFUSIÓN es: [[505 235]\n",
      " [ 53  89]]\n"
     ]
    }
   ],
   "source": [
    "# LOGISTIC REGRESSION\n",
    "print(\"[LOGISTIC REGRESSION]: La BALANCED_ACCURACCY es: {}\".format(resultados[\"LOGISTIC REGRESSION\"][0]))\n",
    "print(\"[LOGISTIC REGRESSION]: La F1_SCORE es: {}\".format(resultados[\"LOGISTIC REGRESSION\"][1]))\n",
    "print(\"[LOGISTIC REGRESSION]: La MATRIZ DE CONFUSIÓN es: {}\".format(resultados[\"LOGISTIC REGRESSION\"][2]))\n",
    "print(\"---------------------------------------------------------------\")\n",
    "# BOOSTING XGBOOST\n",
    "print(\"[BOOSTING LIGHTGBM]: La BALANCED_ACCURACCY es: {}\".format(resultados[\"BOOSTING LIGHTGBM\"][0]))\n",
    "print(\"[BOOSTING LIGHTGBM]: La F1_SCORE es: {}\".format(resultados[\"BOOSTING LIGHTGBM\"][1]))\n",
    "print(\"[BOOSTING LIGHTGBM]: La MATRIZ DE CONFUSIÓN es: {}\".format(resultados[\"BOOSTING LIGHTGBM\"][2]))\n",
    "print(\"---------------------------------------------------------------\")\n",
    "# BOOSTING XGBOOST MODIFIED\n",
    "print(\"[BOOSTING LIGHTGBM MODIFICADO]: La BALANCED_ACCURACCY es: {}\".format(resultados[\"BOOSTING LIGHTGBM MODIFICADO\"][0]))\n",
    "print(\"[BOOSTING LIGHTGBM MODIFICADO]: La F1_SCORE es: {}\".format(resultados[\"BOOSTING LIGHTGBM MODIFICADO\"][1]))\n",
    "print(\"[BOOSTING LIGHTGBM MODIFICADO]: La MATRIZ DE CONFUSIÓN es: {}\".format(resultados[\"BOOSTING LIGHTGBM MODIFICADO\"][2]))"
   ]
  },
  {
   "attachments": {},
   "cell_type": "markdown",
   "metadata": {},
   "source": [
    "Como podemos ver, aunque de forma no muy significativa, el método de boosting con ajuste de hiperparámetros ha resultado ser mejor que el Logistic Regression y por tanto el modelo óptimo.\n",
    "\n",
    "Para completar la práctica, debemos tratar de eliminar atributos de nuestros datos sin empeorar los resultados. Para ello usaremos primero el método Logistic Regression y le aplicaremos un selector para saber el número de atributos óptimo."
   ]
  },
  {
   "cell_type": "code",
   "execution_count": 21,
   "metadata": {},
   "outputs": [
    {
     "data": {
      "text/plain": [
       "{'select__k': 12}"
      ]
     },
     "execution_count": 21,
     "metadata": {},
     "output_type": "execute_result"
    }
   ],
   "source": [
    "from sklearn.feature_selection import SelectKBest, f_classif\n",
    "from sklearn.preprocessing import StandardScaler\n",
    "\n",
    "# Creamos los tranformadores con OneHotEncoder\n",
    "string_transformer = Pipeline(steps=[\n",
    "    ('onehot', OneHotEncoder(handle_unknown='ignore'))\n",
    "])\n",
    "\n",
    "procesador = ColumnTransformer(\n",
    "    transformers=[\n",
    "        ('cat', string_transformer, ['BusinessTravel', 'Department', 'EducationField', 'Gender', 'JobRole', 'MaritalStatus', 'Over18']), # columnas con datos categóricos\n",
    "    ])\n",
    "\n",
    "# Creamos el selector, scaler y el modelo\n",
    "selector = SelectKBest(f_classif)\n",
    "scaler = StandardScaler(with_mean=False)\n",
    "lg = LogisticRegression(class_weight=\"balanced\", random_state=21)\n",
    "\n",
    "\n",
    "# Creamos el pipeline\n",
    "pipeline_attr = Pipeline([\n",
    "  ('procesador', procesador),\n",
    "  ('scaler', scaler),\n",
    "  ('select', selector),\n",
    "  ('lg', lg)                     \n",
    "])\n",
    "\n",
    "# Creamos el grid de parámetros\n",
    "param_grid = {'select__k': list(range(1,31))}\n",
    "\n",
    "# Usaremos un StratifiedKFold como cv para el balanceo\n",
    "cv_STR = StratifiedKFold(n_splits=5)\n",
    "\n",
    "# Creamos el objeto GridSearchCV\n",
    "opt_atr = GridSearchCV(pipeline_attr, param_grid, scoring=\"f1\", cv=cv_STR, n_jobs=-1)\n",
    "                       \n",
    "# Entrenamos el modelo y mostramos el número de features seleccionadas como óptimas   \n",
    "opt_atr.fit(X_train, y_train)\n",
    "opt_atr.best_params_"
   ]
  },
  {
   "attachments": {},
   "cell_type": "markdown",
   "metadata": {},
   "source": [
    "Ya que han salido 12 como los mejores, ajustamos el selector a 12."
   ]
  },
  {
   "cell_type": "code",
   "execution_count": 22,
   "metadata": {},
   "outputs": [
    {
     "data": {
      "text/html": [
       "<style>#sk-container-id-2 {color: black;background-color: white;}#sk-container-id-2 pre{padding: 0;}#sk-container-id-2 div.sk-toggleable {background-color: white;}#sk-container-id-2 label.sk-toggleable__label {cursor: pointer;display: block;width: 100%;margin-bottom: 0;padding: 0.3em;box-sizing: border-box;text-align: center;}#sk-container-id-2 label.sk-toggleable__label-arrow:before {content: \"▸\";float: left;margin-right: 0.25em;color: #696969;}#sk-container-id-2 label.sk-toggleable__label-arrow:hover:before {color: black;}#sk-container-id-2 div.sk-estimator:hover label.sk-toggleable__label-arrow:before {color: black;}#sk-container-id-2 div.sk-toggleable__content {max-height: 0;max-width: 0;overflow: hidden;text-align: left;background-color: #f0f8ff;}#sk-container-id-2 div.sk-toggleable__content pre {margin: 0.2em;color: black;border-radius: 0.25em;background-color: #f0f8ff;}#sk-container-id-2 input.sk-toggleable__control:checked~div.sk-toggleable__content {max-height: 200px;max-width: 100%;overflow: auto;}#sk-container-id-2 input.sk-toggleable__control:checked~label.sk-toggleable__label-arrow:before {content: \"▾\";}#sk-container-id-2 div.sk-estimator input.sk-toggleable__control:checked~label.sk-toggleable__label {background-color: #d4ebff;}#sk-container-id-2 div.sk-label input.sk-toggleable__control:checked~label.sk-toggleable__label {background-color: #d4ebff;}#sk-container-id-2 input.sk-hidden--visually {border: 0;clip: rect(1px 1px 1px 1px);clip: rect(1px, 1px, 1px, 1px);height: 1px;margin: -1px;overflow: hidden;padding: 0;position: absolute;width: 1px;}#sk-container-id-2 div.sk-estimator {font-family: monospace;background-color: #f0f8ff;border: 1px dotted black;border-radius: 0.25em;box-sizing: border-box;margin-bottom: 0.5em;}#sk-container-id-2 div.sk-estimator:hover {background-color: #d4ebff;}#sk-container-id-2 div.sk-parallel-item::after {content: \"\";width: 100%;border-bottom: 1px solid gray;flex-grow: 1;}#sk-container-id-2 div.sk-label:hover label.sk-toggleable__label {background-color: #d4ebff;}#sk-container-id-2 div.sk-serial::before {content: \"\";position: absolute;border-left: 1px solid gray;box-sizing: border-box;top: 0;bottom: 0;left: 50%;z-index: 0;}#sk-container-id-2 div.sk-serial {display: flex;flex-direction: column;align-items: center;background-color: white;padding-right: 0.2em;padding-left: 0.2em;position: relative;}#sk-container-id-2 div.sk-item {position: relative;z-index: 1;}#sk-container-id-2 div.sk-parallel {display: flex;align-items: stretch;justify-content: center;background-color: white;position: relative;}#sk-container-id-2 div.sk-item::before, #sk-container-id-2 div.sk-parallel-item::before {content: \"\";position: absolute;border-left: 1px solid gray;box-sizing: border-box;top: 0;bottom: 0;left: 50%;z-index: -1;}#sk-container-id-2 div.sk-parallel-item {display: flex;flex-direction: column;z-index: 1;position: relative;background-color: white;}#sk-container-id-2 div.sk-parallel-item:first-child::after {align-self: flex-end;width: 50%;}#sk-container-id-2 div.sk-parallel-item:last-child::after {align-self: flex-start;width: 50%;}#sk-container-id-2 div.sk-parallel-item:only-child::after {width: 0;}#sk-container-id-2 div.sk-dashed-wrapped {border: 1px dashed gray;margin: 0 0.4em 0.5em 0.4em;box-sizing: border-box;padding-bottom: 0.4em;background-color: white;}#sk-container-id-2 div.sk-label label {font-family: monospace;font-weight: bold;display: inline-block;line-height: 1.2em;}#sk-container-id-2 div.sk-label-container {text-align: center;}#sk-container-id-2 div.sk-container {/* jupyter's `normalize.less` sets `[hidden] { display: none; }` but bootstrap.min.css set `[hidden] { display: none !important; }` so we also need the `!important` here to be able to override the default hidden behavior on the sphinx rendered scikit-learn.org. See: https://github.com/scikit-learn/scikit-learn/issues/21755 */display: inline-block !important;position: relative;}#sk-container-id-2 div.sk-text-repr-fallback {display: none;}</style><div id=\"sk-container-id-2\" class=\"sk-top-container\"><div class=\"sk-text-repr-fallback\"><pre>Pipeline(steps=[(&#x27;procesador&#x27;,\n",
       "                 ColumnTransformer(transformers=[(&#x27;cat&#x27;,\n",
       "                                                  Pipeline(steps=[(&#x27;onehot&#x27;,\n",
       "                                                                   OneHotEncoder(handle_unknown=&#x27;ignore&#x27;))]),\n",
       "                                                  [&#x27;BusinessTravel&#x27;,\n",
       "                                                   &#x27;Department&#x27;,\n",
       "                                                   &#x27;EducationField&#x27;, &#x27;Gender&#x27;,\n",
       "                                                   &#x27;JobRole&#x27;, &#x27;MaritalStatus&#x27;,\n",
       "                                                   &#x27;Over18&#x27;])])),\n",
       "                (&#x27;scale&#x27;, StandardScaler(with_mean=False)),\n",
       "                (&#x27;select&#x27;, SelectKBest(k=12)),\n",
       "                (&#x27;lg&#x27;,\n",
       "                 LogisticRegression(class_weight=&#x27;balanced&#x27;, random_state=21))])</pre><b>In a Jupyter environment, please rerun this cell to show the HTML representation or trust the notebook. <br />On GitHub, the HTML representation is unable to render, please try loading this page with nbviewer.org.</b></div><div class=\"sk-container\" hidden><div class=\"sk-item sk-dashed-wrapped\"><div class=\"sk-label-container\"><div class=\"sk-label sk-toggleable\"><input class=\"sk-toggleable__control sk-hidden--visually\" id=\"sk-estimator-id-6\" type=\"checkbox\" ><label for=\"sk-estimator-id-6\" class=\"sk-toggleable__label sk-toggleable__label-arrow\">Pipeline</label><div class=\"sk-toggleable__content\"><pre>Pipeline(steps=[(&#x27;procesador&#x27;,\n",
       "                 ColumnTransformer(transformers=[(&#x27;cat&#x27;,\n",
       "                                                  Pipeline(steps=[(&#x27;onehot&#x27;,\n",
       "                                                                   OneHotEncoder(handle_unknown=&#x27;ignore&#x27;))]),\n",
       "                                                  [&#x27;BusinessTravel&#x27;,\n",
       "                                                   &#x27;Department&#x27;,\n",
       "                                                   &#x27;EducationField&#x27;, &#x27;Gender&#x27;,\n",
       "                                                   &#x27;JobRole&#x27;, &#x27;MaritalStatus&#x27;,\n",
       "                                                   &#x27;Over18&#x27;])])),\n",
       "                (&#x27;scale&#x27;, StandardScaler(with_mean=False)),\n",
       "                (&#x27;select&#x27;, SelectKBest(k=12)),\n",
       "                (&#x27;lg&#x27;,\n",
       "                 LogisticRegression(class_weight=&#x27;balanced&#x27;, random_state=21))])</pre></div></div></div><div class=\"sk-serial\"><div class=\"sk-item sk-dashed-wrapped\"><div class=\"sk-label-container\"><div class=\"sk-label sk-toggleable\"><input class=\"sk-toggleable__control sk-hidden--visually\" id=\"sk-estimator-id-7\" type=\"checkbox\" ><label for=\"sk-estimator-id-7\" class=\"sk-toggleable__label sk-toggleable__label-arrow\">procesador: ColumnTransformer</label><div class=\"sk-toggleable__content\"><pre>ColumnTransformer(transformers=[(&#x27;cat&#x27;,\n",
       "                                 Pipeline(steps=[(&#x27;onehot&#x27;,\n",
       "                                                  OneHotEncoder(handle_unknown=&#x27;ignore&#x27;))]),\n",
       "                                 [&#x27;BusinessTravel&#x27;, &#x27;Department&#x27;,\n",
       "                                  &#x27;EducationField&#x27;, &#x27;Gender&#x27;, &#x27;JobRole&#x27;,\n",
       "                                  &#x27;MaritalStatus&#x27;, &#x27;Over18&#x27;])])</pre></div></div></div><div class=\"sk-parallel\"><div class=\"sk-parallel-item\"><div class=\"sk-item\"><div class=\"sk-label-container\"><div class=\"sk-label sk-toggleable\"><input class=\"sk-toggleable__control sk-hidden--visually\" id=\"sk-estimator-id-8\" type=\"checkbox\" ><label for=\"sk-estimator-id-8\" class=\"sk-toggleable__label sk-toggleable__label-arrow\">cat</label><div class=\"sk-toggleable__content\"><pre>[&#x27;BusinessTravel&#x27;, &#x27;Department&#x27;, &#x27;EducationField&#x27;, &#x27;Gender&#x27;, &#x27;JobRole&#x27;, &#x27;MaritalStatus&#x27;, &#x27;Over18&#x27;]</pre></div></div></div><div class=\"sk-serial\"><div class=\"sk-item\"><div class=\"sk-serial\"><div class=\"sk-item\"><div class=\"sk-estimator sk-toggleable\"><input class=\"sk-toggleable__control sk-hidden--visually\" id=\"sk-estimator-id-9\" type=\"checkbox\" ><label for=\"sk-estimator-id-9\" class=\"sk-toggleable__label sk-toggleable__label-arrow\">OneHotEncoder</label><div class=\"sk-toggleable__content\"><pre>OneHotEncoder(handle_unknown=&#x27;ignore&#x27;)</pre></div></div></div></div></div></div></div></div></div></div><div class=\"sk-item\"><div class=\"sk-estimator sk-toggleable\"><input class=\"sk-toggleable__control sk-hidden--visually\" id=\"sk-estimator-id-10\" type=\"checkbox\" ><label for=\"sk-estimator-id-10\" class=\"sk-toggleable__label sk-toggleable__label-arrow\">StandardScaler</label><div class=\"sk-toggleable__content\"><pre>StandardScaler(with_mean=False)</pre></div></div></div><div class=\"sk-item\"><div class=\"sk-estimator sk-toggleable\"><input class=\"sk-toggleable__control sk-hidden--visually\" id=\"sk-estimator-id-11\" type=\"checkbox\" ><label for=\"sk-estimator-id-11\" class=\"sk-toggleable__label sk-toggleable__label-arrow\">SelectKBest</label><div class=\"sk-toggleable__content\"><pre>SelectKBest(k=12)</pre></div></div></div><div class=\"sk-item\"><div class=\"sk-estimator sk-toggleable\"><input class=\"sk-toggleable__control sk-hidden--visually\" id=\"sk-estimator-id-12\" type=\"checkbox\" ><label for=\"sk-estimator-id-12\" class=\"sk-toggleable__label sk-toggleable__label-arrow\">LogisticRegression</label><div class=\"sk-toggleable__content\"><pre>LogisticRegression(class_weight=&#x27;balanced&#x27;, random_state=21)</pre></div></div></div></div></div></div></div>"
      ],
      "text/plain": [
       "Pipeline(steps=[('procesador',\n",
       "                 ColumnTransformer(transformers=[('cat',\n",
       "                                                  Pipeline(steps=[('onehot',\n",
       "                                                                   OneHotEncoder(handle_unknown='ignore'))]),\n",
       "                                                  ['BusinessTravel',\n",
       "                                                   'Department',\n",
       "                                                   'EducationField', 'Gender',\n",
       "                                                   'JobRole', 'MaritalStatus',\n",
       "                                                   'Over18'])])),\n",
       "                ('scale', StandardScaler(with_mean=False)),\n",
       "                ('select', SelectKBest(k=12)),\n",
       "                ('lg',\n",
       "                 LogisticRegression(class_weight='balanced', random_state=21))])"
      ]
     },
     "execution_count": 22,
     "metadata": {},
     "output_type": "execute_result"
    }
   ],
   "source": [
    "# Se eligen los 12 mejores atributos\n",
    "selector = SelectKBest(f_classif, k=12)\n",
    "scaler = StandardScaler(with_mean=False)\n",
    "lg = LogisticRegression(class_weight=\"balanced\", random_state=21)\n",
    "\n",
    "# Creamos el pipeline\n",
    "pipe = Pipeline([\n",
    "  ('procesador', procesador),\n",
    "  ('scale', scaler),\n",
    "  ('select', selector),\n",
    "  ('lg', lg)                     \n",
    "])\n",
    "\n",
    "#Entrenamos el modelo y se muestran los resultados\n",
    "pipe.fit(X_train, y_train)"
   ]
  },
  {
   "attachments": {},
   "cell_type": "markdown",
   "metadata": {},
   "source": [
    "Mostramos los resultados:"
   ]
  },
  {
   "cell_type": "code",
   "execution_count": 23,
   "metadata": {},
   "outputs": [
    {
     "name": "stdout",
     "output_type": "stream",
     "text": [
      "Atributos seleccionados:\n",
      "[ True  True  True  True False False False  True False False False False\n",
      "  True False False False False False False False False  True  True  True\n",
      " False False False  True  True  True False False False]\n",
      "----------------------------------------------------------------------------------\n",
      "Posición de los atributos en la tabla\n",
      "(array([ 0,  1,  2,  3,  7, 12, 21, 22, 23, 27, 28, 29], dtype=int64),)\n",
      "----------------------------------------------------------------------------------\n",
      "Los nombres de los atributos son:\n",
      "['hrs', 'absences', 'JobInvolvement', 'PerformanceRating', 'Age', 'EducationField', 'Over18', 'PercentSalaryHike', 'StandardHours', 'YearsAtCompany', 'YearsSinceLastPromotion', 'YearsWithCurrManager']\n",
      "12\n"
     ]
    }
   ],
   "source": [
    "# Imprime si el atributo ha sido seleccionado o no con True o False\n",
    "print(\"Atributos seleccionados:\")\n",
    "print(pipe.named_steps['select'].get_support())\n",
    "print(\"----------------------------------------------------------------------------------\")\n",
    "\n",
    "# Posición atributos\n",
    "print(\"Posición de los atributos en la tabla\")\n",
    "print(np.where(pipe.named_steps['select'].get_support()))\n",
    "print(\"----------------------------------------------------------------------------------\")\n",
    "\n",
    "# Nombres atributos\n",
    "print(\"Los nombres de los atributos son:\")\n",
    "atr = selector.get_support()\n",
    "nombres_atributos = np.array(list(X_train.columns)).tolist()\n",
    "\n",
    "nombres_variables_seleccionadas = [nombre for i, nombre in enumerate(nombres_atributos) if atr[i]]\n",
    "print(nombres_variables_seleccionadas)\n",
    "print(len(nombres_variables_seleccionadas))"
   ]
  },
  {
   "attachments": {},
   "cell_type": "markdown",
   "metadata": {},
   "source": [
    "Por último evaluamos las métricas de este modelo."
   ]
  },
  {
   "cell_type": "code",
   "execution_count": 24,
   "metadata": {},
   "outputs": [
    {
     "name": "stdout",
     "output_type": "stream",
     "text": [
      "[LOGISTIC REGRESSION REDUCIDO]: La BALANCED_ACCURACCY es: 0.6236200989722116\n",
      "[LOGISTIC REGRESSION REDUCIDO]: La F1_SCORE es: 0.3490759753593429\n",
      "[LOGISTIC REGRESSION REDUCIDO]: La MATRIZ DE CONFUSIÓN es: [[480 260]\n",
      " [ 57  85]]\n"
     ]
    }
   ],
   "source": [
    "# Hacemos predicciones\n",
    "y_pred = pipe.predict(X_test)\n",
    "\n",
    "# Calculamos las métricas pedidas en el enunciado\n",
    "balanced_acc_boost = balanced_accuracy_score(y_test, y_pred)\n",
    "f1_boost = f1_score(y_test, y_pred)\n",
    "cm_boost = confusion_matrix(y_test, y_pred)\n",
    "\n",
    "print(\"[LOGISTIC REGRESSION REDUCIDO]: La BALANCED_ACCURACCY es: {}\".format(balanced_acc_boost))\n",
    "print(\"[LOGISTIC REGRESSION REDUCIDO]: La F1_SCORE es: {}\".format(f1_boost))\n",
    "print(\"[LOGISTIC REGRESSION REDUCIDO]: La MATRIZ DE CONFUSIÓN es: {}\".format(cm_boost))\n",
    "\n",
    "resultados[\"LOGISTIC REGRESSION REDUCIDO\"] = [balanced_acc_boost, f1_boost, cm_boost]"
   ]
  },
  {
   "attachments": {},
   "cell_type": "markdown",
   "metadata": {},
   "source": [
    "Ahora probaremos a hacer lo mismo con el método boosting."
   ]
  },
  {
   "cell_type": "code",
   "execution_count": 25,
   "metadata": {},
   "outputs": [
    {
     "data": {
      "text/plain": [
       "{'lg__max_depth': 10,\n",
       " 'lg__min_child_samples': 10,\n",
       " 'lg__n_estimators': 150,\n",
       " 'lg__subsample': 0.1,\n",
       " 'select__k': 23}"
      ]
     },
     "execution_count": 25,
     "metadata": {},
     "output_type": "execute_result"
    }
   ],
   "source": [
    "from sklearn.feature_selection import SelectKBest, f_classif\n",
    "from sklearn.preprocessing import StandardScaler\n",
    "\n",
    "# Creamos los tranformadores con OneHotEncoder\n",
    "string_transformer = Pipeline(steps=[\n",
    "    ('onehot', OneHotEncoder(handle_unknown='ignore'))\n",
    "])\n",
    "\n",
    "procesador = ColumnTransformer(\n",
    "    transformers=[\n",
    "        ('cat', string_transformer, ['BusinessTravel', 'Department', 'EducationField', 'Gender', 'JobRole', 'MaritalStatus', 'Over18']), # columnas con datos categóricos\n",
    "    ])\n",
    "\n",
    "# Creamos el selector, scaler y el modelo\n",
    "selector = SelectKBest(f_classif)\n",
    "scaler = StandardScaler(with_mean=False)\n",
    "lg = LGBMClassifier(is_unbalance=True, random_state=21)\n",
    "\n",
    "\n",
    "# Creamos el pipeline\n",
    "pipeline_attr = Pipeline([\n",
    "  ('procesador', procesador),\n",
    "  ('scaler', scaler),\n",
    "  ('select', selector),\n",
    "  ('lg', lg)                     \n",
    "])\n",
    "\n",
    "# Creamos el grid de parámetros\n",
    "param_grid = {\n",
    "    'select__k': list(range(1,31)),\n",
    "    #'lg__learning_rate': [0.1, 0.4], # Default 0.1 - COMENTADO YA QUE SALE EL DEFAULT (PARA AHORRAR TIEMPO)\n",
    "    'lg__max_depth': [-1, 10], # -1\n",
    "    'lg__n_estimators': [100, 150], # 100\n",
    "    'lg__min_child_samples': [10, 20], # 20\n",
    "    'lg__subsample': [0.1, 1], # 1\n",
    "}\n",
    "\n",
    "# Usaremos un StratifiedKFold como cv para el balanceo\n",
    "cv_STR = StratifiedKFold(n_splits=5)\n",
    "\n",
    "# Creamos el objeto GridSearchCV\n",
    "opt_atr = GridSearchCV(pipeline_attr, param_grid, scoring=\"f1\", cv=cv_STR, n_jobs=-1)\n",
    "                       \n",
    "# Entrenamos el modelo y mostramos el número de features seleccionadas como óptimas   \n",
    "opt_atr.fit(X_train, y_train)\n",
    "opt_atr.best_params_"
   ]
  },
  {
   "attachments": {},
   "cell_type": "markdown",
   "metadata": {},
   "source": [
    "En este caso se escogieron 23 atributos."
   ]
  },
  {
   "cell_type": "code",
   "execution_count": 26,
   "metadata": {},
   "outputs": [
    {
     "data": {
      "text/html": [
       "<style>#sk-container-id-3 {color: black;background-color: white;}#sk-container-id-3 pre{padding: 0;}#sk-container-id-3 div.sk-toggleable {background-color: white;}#sk-container-id-3 label.sk-toggleable__label {cursor: pointer;display: block;width: 100%;margin-bottom: 0;padding: 0.3em;box-sizing: border-box;text-align: center;}#sk-container-id-3 label.sk-toggleable__label-arrow:before {content: \"▸\";float: left;margin-right: 0.25em;color: #696969;}#sk-container-id-3 label.sk-toggleable__label-arrow:hover:before {color: black;}#sk-container-id-3 div.sk-estimator:hover label.sk-toggleable__label-arrow:before {color: black;}#sk-container-id-3 div.sk-toggleable__content {max-height: 0;max-width: 0;overflow: hidden;text-align: left;background-color: #f0f8ff;}#sk-container-id-3 div.sk-toggleable__content pre {margin: 0.2em;color: black;border-radius: 0.25em;background-color: #f0f8ff;}#sk-container-id-3 input.sk-toggleable__control:checked~div.sk-toggleable__content {max-height: 200px;max-width: 100%;overflow: auto;}#sk-container-id-3 input.sk-toggleable__control:checked~label.sk-toggleable__label-arrow:before {content: \"▾\";}#sk-container-id-3 div.sk-estimator input.sk-toggleable__control:checked~label.sk-toggleable__label {background-color: #d4ebff;}#sk-container-id-3 div.sk-label input.sk-toggleable__control:checked~label.sk-toggleable__label {background-color: #d4ebff;}#sk-container-id-3 input.sk-hidden--visually {border: 0;clip: rect(1px 1px 1px 1px);clip: rect(1px, 1px, 1px, 1px);height: 1px;margin: -1px;overflow: hidden;padding: 0;position: absolute;width: 1px;}#sk-container-id-3 div.sk-estimator {font-family: monospace;background-color: #f0f8ff;border: 1px dotted black;border-radius: 0.25em;box-sizing: border-box;margin-bottom: 0.5em;}#sk-container-id-3 div.sk-estimator:hover {background-color: #d4ebff;}#sk-container-id-3 div.sk-parallel-item::after {content: \"\";width: 100%;border-bottom: 1px solid gray;flex-grow: 1;}#sk-container-id-3 div.sk-label:hover label.sk-toggleable__label {background-color: #d4ebff;}#sk-container-id-3 div.sk-serial::before {content: \"\";position: absolute;border-left: 1px solid gray;box-sizing: border-box;top: 0;bottom: 0;left: 50%;z-index: 0;}#sk-container-id-3 div.sk-serial {display: flex;flex-direction: column;align-items: center;background-color: white;padding-right: 0.2em;padding-left: 0.2em;position: relative;}#sk-container-id-3 div.sk-item {position: relative;z-index: 1;}#sk-container-id-3 div.sk-parallel {display: flex;align-items: stretch;justify-content: center;background-color: white;position: relative;}#sk-container-id-3 div.sk-item::before, #sk-container-id-3 div.sk-parallel-item::before {content: \"\";position: absolute;border-left: 1px solid gray;box-sizing: border-box;top: 0;bottom: 0;left: 50%;z-index: -1;}#sk-container-id-3 div.sk-parallel-item {display: flex;flex-direction: column;z-index: 1;position: relative;background-color: white;}#sk-container-id-3 div.sk-parallel-item:first-child::after {align-self: flex-end;width: 50%;}#sk-container-id-3 div.sk-parallel-item:last-child::after {align-self: flex-start;width: 50%;}#sk-container-id-3 div.sk-parallel-item:only-child::after {width: 0;}#sk-container-id-3 div.sk-dashed-wrapped {border: 1px dashed gray;margin: 0 0.4em 0.5em 0.4em;box-sizing: border-box;padding-bottom: 0.4em;background-color: white;}#sk-container-id-3 div.sk-label label {font-family: monospace;font-weight: bold;display: inline-block;line-height: 1.2em;}#sk-container-id-3 div.sk-label-container {text-align: center;}#sk-container-id-3 div.sk-container {/* jupyter's `normalize.less` sets `[hidden] { display: none; }` but bootstrap.min.css set `[hidden] { display: none !important; }` so we also need the `!important` here to be able to override the default hidden behavior on the sphinx rendered scikit-learn.org. See: https://github.com/scikit-learn/scikit-learn/issues/21755 */display: inline-block !important;position: relative;}#sk-container-id-3 div.sk-text-repr-fallback {display: none;}</style><div id=\"sk-container-id-3\" class=\"sk-top-container\"><div class=\"sk-text-repr-fallback\"><pre>Pipeline(steps=[(&#x27;procesador&#x27;,\n",
       "                 ColumnTransformer(transformers=[(&#x27;cat&#x27;,\n",
       "                                                  Pipeline(steps=[(&#x27;onehot&#x27;,\n",
       "                                                                   OneHotEncoder(handle_unknown=&#x27;ignore&#x27;))]),\n",
       "                                                  [&#x27;BusinessTravel&#x27;,\n",
       "                                                   &#x27;Department&#x27;,\n",
       "                                                   &#x27;EducationField&#x27;, &#x27;Gender&#x27;,\n",
       "                                                   &#x27;JobRole&#x27;, &#x27;MaritalStatus&#x27;,\n",
       "                                                   &#x27;Over18&#x27;])])),\n",
       "                (&#x27;scale&#x27;, StandardScaler(with_mean=False)),\n",
       "                (&#x27;select&#x27;, SelectKBest(k=23)),\n",
       "                (&#x27;lg&#x27;,\n",
       "                 LGBMClassifier(class_weight=&#x27;balanced&#x27;, lg__max_depth=10,\n",
       "                                lg__min_child_samples=10, lg__n_estimators=150,\n",
       "                                lg__subsample=0.1, random_state=21,\n",
       "                                select__k=23))])</pre><b>In a Jupyter environment, please rerun this cell to show the HTML representation or trust the notebook. <br />On GitHub, the HTML representation is unable to render, please try loading this page with nbviewer.org.</b></div><div class=\"sk-container\" hidden><div class=\"sk-item sk-dashed-wrapped\"><div class=\"sk-label-container\"><div class=\"sk-label sk-toggleable\"><input class=\"sk-toggleable__control sk-hidden--visually\" id=\"sk-estimator-id-13\" type=\"checkbox\" ><label for=\"sk-estimator-id-13\" class=\"sk-toggleable__label sk-toggleable__label-arrow\">Pipeline</label><div class=\"sk-toggleable__content\"><pre>Pipeline(steps=[(&#x27;procesador&#x27;,\n",
       "                 ColumnTransformer(transformers=[(&#x27;cat&#x27;,\n",
       "                                                  Pipeline(steps=[(&#x27;onehot&#x27;,\n",
       "                                                                   OneHotEncoder(handle_unknown=&#x27;ignore&#x27;))]),\n",
       "                                                  [&#x27;BusinessTravel&#x27;,\n",
       "                                                   &#x27;Department&#x27;,\n",
       "                                                   &#x27;EducationField&#x27;, &#x27;Gender&#x27;,\n",
       "                                                   &#x27;JobRole&#x27;, &#x27;MaritalStatus&#x27;,\n",
       "                                                   &#x27;Over18&#x27;])])),\n",
       "                (&#x27;scale&#x27;, StandardScaler(with_mean=False)),\n",
       "                (&#x27;select&#x27;, SelectKBest(k=23)),\n",
       "                (&#x27;lg&#x27;,\n",
       "                 LGBMClassifier(class_weight=&#x27;balanced&#x27;, lg__max_depth=10,\n",
       "                                lg__min_child_samples=10, lg__n_estimators=150,\n",
       "                                lg__subsample=0.1, random_state=21,\n",
       "                                select__k=23))])</pre></div></div></div><div class=\"sk-serial\"><div class=\"sk-item sk-dashed-wrapped\"><div class=\"sk-label-container\"><div class=\"sk-label sk-toggleable\"><input class=\"sk-toggleable__control sk-hidden--visually\" id=\"sk-estimator-id-14\" type=\"checkbox\" ><label for=\"sk-estimator-id-14\" class=\"sk-toggleable__label sk-toggleable__label-arrow\">procesador: ColumnTransformer</label><div class=\"sk-toggleable__content\"><pre>ColumnTransformer(transformers=[(&#x27;cat&#x27;,\n",
       "                                 Pipeline(steps=[(&#x27;onehot&#x27;,\n",
       "                                                  OneHotEncoder(handle_unknown=&#x27;ignore&#x27;))]),\n",
       "                                 [&#x27;BusinessTravel&#x27;, &#x27;Department&#x27;,\n",
       "                                  &#x27;EducationField&#x27;, &#x27;Gender&#x27;, &#x27;JobRole&#x27;,\n",
       "                                  &#x27;MaritalStatus&#x27;, &#x27;Over18&#x27;])])</pre></div></div></div><div class=\"sk-parallel\"><div class=\"sk-parallel-item\"><div class=\"sk-item\"><div class=\"sk-label-container\"><div class=\"sk-label sk-toggleable\"><input class=\"sk-toggleable__control sk-hidden--visually\" id=\"sk-estimator-id-15\" type=\"checkbox\" ><label for=\"sk-estimator-id-15\" class=\"sk-toggleable__label sk-toggleable__label-arrow\">cat</label><div class=\"sk-toggleable__content\"><pre>[&#x27;BusinessTravel&#x27;, &#x27;Department&#x27;, &#x27;EducationField&#x27;, &#x27;Gender&#x27;, &#x27;JobRole&#x27;, &#x27;MaritalStatus&#x27;, &#x27;Over18&#x27;]</pre></div></div></div><div class=\"sk-serial\"><div class=\"sk-item\"><div class=\"sk-serial\"><div class=\"sk-item\"><div class=\"sk-estimator sk-toggleable\"><input class=\"sk-toggleable__control sk-hidden--visually\" id=\"sk-estimator-id-16\" type=\"checkbox\" ><label for=\"sk-estimator-id-16\" class=\"sk-toggleable__label sk-toggleable__label-arrow\">OneHotEncoder</label><div class=\"sk-toggleable__content\"><pre>OneHotEncoder(handle_unknown=&#x27;ignore&#x27;)</pre></div></div></div></div></div></div></div></div></div></div><div class=\"sk-item\"><div class=\"sk-estimator sk-toggleable\"><input class=\"sk-toggleable__control sk-hidden--visually\" id=\"sk-estimator-id-17\" type=\"checkbox\" ><label for=\"sk-estimator-id-17\" class=\"sk-toggleable__label sk-toggleable__label-arrow\">StandardScaler</label><div class=\"sk-toggleable__content\"><pre>StandardScaler(with_mean=False)</pre></div></div></div><div class=\"sk-item\"><div class=\"sk-estimator sk-toggleable\"><input class=\"sk-toggleable__control sk-hidden--visually\" id=\"sk-estimator-id-18\" type=\"checkbox\" ><label for=\"sk-estimator-id-18\" class=\"sk-toggleable__label sk-toggleable__label-arrow\">SelectKBest</label><div class=\"sk-toggleable__content\"><pre>SelectKBest(k=23)</pre></div></div></div><div class=\"sk-item\"><div class=\"sk-estimator sk-toggleable\"><input class=\"sk-toggleable__control sk-hidden--visually\" id=\"sk-estimator-id-19\" type=\"checkbox\" ><label for=\"sk-estimator-id-19\" class=\"sk-toggleable__label sk-toggleable__label-arrow\">LGBMClassifier</label><div class=\"sk-toggleable__content\"><pre>LGBMClassifier(class_weight=&#x27;balanced&#x27;, lg__max_depth=10,\n",
       "               lg__min_child_samples=10, lg__n_estimators=150,\n",
       "               lg__subsample=0.1, random_state=21, select__k=23)</pre></div></div></div></div></div></div></div>"
      ],
      "text/plain": [
       "Pipeline(steps=[('procesador',\n",
       "                 ColumnTransformer(transformers=[('cat',\n",
       "                                                  Pipeline(steps=[('onehot',\n",
       "                                                                   OneHotEncoder(handle_unknown='ignore'))]),\n",
       "                                                  ['BusinessTravel',\n",
       "                                                   'Department',\n",
       "                                                   'EducationField', 'Gender',\n",
       "                                                   'JobRole', 'MaritalStatus',\n",
       "                                                   'Over18'])])),\n",
       "                ('scale', StandardScaler(with_mean=False)),\n",
       "                ('select', SelectKBest(k=23)),\n",
       "                ('lg',\n",
       "                 LGBMClassifier(class_weight='balanced', lg__max_depth=10,\n",
       "                                lg__min_child_samples=10, lg__n_estimators=150,\n",
       "                                lg__subsample=0.1, random_state=21,\n",
       "                                select__k=23))])"
      ]
     },
     "execution_count": 26,
     "metadata": {},
     "output_type": "execute_result"
    }
   ],
   "source": [
    "# Se eligen los 22 mejores atributos\n",
    "selector = SelectKBest(f_classif, k=23)\n",
    "scaler = StandardScaler(with_mean=False)\n",
    "lg = LGBMClassifier(**opt_atr.best_params_, class_weight=\"balanced\", random_state=21)\n",
    "\n",
    "# Creamos el pipeline\n",
    "pipe = Pipeline([\n",
    "  ('procesador', procesador),\n",
    "  ('scale', scaler),\n",
    "  ('select', selector),\n",
    "  ('lg', lg)                     \n",
    "])\n",
    "\n",
    "#Entrenamos el modelo y se muestran los resultados\n",
    "pipe.fit(X_train, y_train)"
   ]
  },
  {
   "cell_type": "code",
   "execution_count": 27,
   "metadata": {},
   "outputs": [
    {
     "name": "stdout",
     "output_type": "stream",
     "text": [
      "Atributos seleccionados:\n",
      "[ True  True  True  True  True  True  True  True  True  True False  True\n",
      "  True False  True  True False False False  True  True  True  True  True\n",
      " False False  True  True  True  True False False False]\n",
      "----------------------------------------------------------------------------------\n",
      "Posición de los atributos en la tabla\n",
      "(array([ 0,  1,  2,  3,  4,  5,  6,  7,  8,  9, 11, 12, 14, 15, 19, 20, 21,\n",
      "       22, 23, 26, 27, 28, 29], dtype=int64),)\n",
      "----------------------------------------------------------------------------------\n",
      "Los nombres de los atributos son:\n",
      "['hrs', 'absences', 'JobInvolvement', 'PerformanceRating', 'EnvironmentSatisfaction', 'JobSatisfaction', 'WorkLifeBalance', 'Age', 'BusinessTravel', 'Department', 'Education', 'EducationField', 'EmployeeID', 'Gender', 'MonthlyIncome', 'NumCompaniesWorked', 'Over18', 'PercentSalaryHike', 'StandardHours', 'TrainingTimesLastYear', 'YearsAtCompany', 'YearsSinceLastPromotion', 'YearsWithCurrManager']\n",
      "23\n"
     ]
    }
   ],
   "source": [
    "# Imprime si el atributo ha sido seleccionado o no con True o False\n",
    "print(\"Atributos seleccionados:\")\n",
    "print(pipe.named_steps['select'].get_support())\n",
    "print(\"----------------------------------------------------------------------------------\")\n",
    "\n",
    "# Posición atributos\n",
    "print(\"Posición de los atributos en la tabla\")\n",
    "print(np.where(pipe.named_steps['select'].get_support()))\n",
    "print(\"----------------------------------------------------------------------------------\")\n",
    "\n",
    "# Nombres atributos\n",
    "print(\"Los nombres de los atributos son:\")\n",
    "atr = selector.get_support()\n",
    "nombres_atributos = np.array(list(X_train.columns)).tolist()\n",
    "\n",
    "nombres_variables_seleccionadas = [nombre for i, nombre in enumerate(nombres_atributos) if atr[i]]\n",
    "print(nombres_variables_seleccionadas)\n",
    "print(len(nombres_variables_seleccionadas))"
   ]
  },
  {
   "attachments": {},
   "cell_type": "markdown",
   "metadata": {},
   "source": [
    "Hacemos las predicciones e imprimimos resultados."
   ]
  },
  {
   "cell_type": "code",
   "execution_count": 28,
   "metadata": {},
   "outputs": [
    {
     "name": "stdout",
     "output_type": "stream",
     "text": [
      "[BOOSTING LIGHTGBM REDUCIDO]: La BALANCED_ACCURACCY es: 0.6494765892653217\n",
      "[BOOSTING LIGHTGBM REDUCIDO]: La F1_SCORE es: 0.374485596707819\n",
      "[BOOSTING LIGHTGBM REDUCIDO]: La MATRIZ DE CONFUSIÓN es: [[487 253]\n",
      " [ 51  91]]\n"
     ]
    }
   ],
   "source": [
    "# Hacemos predicciones\n",
    "y_pred = pipe.predict(X_test)\n",
    "\n",
    "# Calculamos las métricas pedidas en el enunciado\n",
    "balanced_acc_boost = balanced_accuracy_score(y_test, y_pred)\n",
    "f1_boost = f1_score(y_test, y_pred)\n",
    "cm_boost = confusion_matrix(y_test, y_pred)\n",
    "\n",
    "print(\"[BOOSTING LIGHTGBM REDUCIDO]: La BALANCED_ACCURACCY es: {}\".format(balanced_acc_boost))\n",
    "print(\"[BOOSTING LIGHTGBM REDUCIDO]: La F1_SCORE es: {}\".format(f1_boost))\n",
    "print(\"[BOOSTING LIGHTGBM REDUCIDO]: La MATRIZ DE CONFUSIÓN es: {}\".format(cm_boost))\n",
    "\n",
    "resultados[\"BOOSTING LIGHTGBM REDUCIDO\"] = [balanced_acc_boost, f1_boost, cm_boost]"
   ]
  },
  {
   "attachments": {},
   "cell_type": "markdown",
   "metadata": {},
   "source": [
    "Para terminar vamos a imprimir los resultados obtenidos y compararlos con los anteriores."
   ]
  },
  {
   "cell_type": "code",
   "execution_count": 29,
   "metadata": {},
   "outputs": [
    {
     "name": "stdout",
     "output_type": "stream",
     "text": [
      "[LOGISTIC REGRESSION]: La BALANCED_ACCURACCY es: 0.6137704606014465\n",
      "[LOGISTIC REGRESSION]: La F1_SCORE es: 0.3385214007782101\n",
      "[LOGISTIC REGRESSION]: La MATRIZ DE CONFUSIÓN es: [[455 285]\n",
      " [ 55  87]]\n",
      "\n",
      "[LOGISTIC REGRESSION REDUCIDO]: La BALANCED_ACCURACCY es: 0.6236200989722116\n",
      "[LOGISTIC REGRESSION REDUCIDO]: La F1_SCORE es: 0.3490759753593429\n",
      "[LOGISTIC REGRESSION REDUCIDO]: La MATRIZ DE CONFUSIÓN es: [[480 260]\n",
      " [ 57  85]]\n",
      "\n",
      "---------------------------------------------------------------\n",
      "[BOOSTING LIGHTGBM]: La BALANCED_ACCURACCY es: 0.5403692424819185\n",
      "[BOOSTING LIGHTGBM]: La F1_SCORE es: 0.15950920245398773\n",
      "[BOOSTING LIGHTGBM]: La MATRIZ DE CONFUSIÓN es: [[732   8]\n",
      " [129  13]]\n",
      "\n",
      "[BOOSTING LIGHTGBM MODIFICADO]: La BALANCED_ACCURACCY es: 0.6545964979063571\n",
      "[BOOSTING LIGHTGBM MODIFICADO]: La F1_SCORE es: 0.38197424892703863\n",
      "[BOOSTING LIGHTGBM MODIFICADO]: La MATRIZ DE CONFUSIÓN es: [[505 235]\n",
      " [ 53  89]]\n",
      "\n",
      "[BOOSTING LIGHTGBM REDUCIDO]: La BALANCED_ACCURACCY es: 0.6494765892653217\n",
      "[BOOSTING LIGHTGBM REDUCIDO]: La F1_SCORE es: 0.374485596707819\n",
      "[BOOSTING LIGHTGBM REDUCIDO]: La MATRIZ DE CONFUSIÓN es: [[487 253]\n",
      " [ 51  91]]\n",
      "\n"
     ]
    }
   ],
   "source": [
    "# LOGISTIC REGRESSION\n",
    "print(\"[LOGISTIC REGRESSION]: La BALANCED_ACCURACCY es: {}\".format(resultados[\"LOGISTIC REGRESSION\"][0]))\n",
    "print(\"[LOGISTIC REGRESSION]: La F1_SCORE es: {}\".format(resultados[\"LOGISTIC REGRESSION\"][1]))\n",
    "print(\"[LOGISTIC REGRESSION]: La MATRIZ DE CONFUSIÓN es: {}\\n\".format(resultados[\"LOGISTIC REGRESSION\"][2]))\n",
    "\n",
    "print(\"[LOGISTIC REGRESSION REDUCIDO]: La BALANCED_ACCURACCY es: {}\".format(resultados[\"LOGISTIC REGRESSION REDUCIDO\"][0]))\n",
    "print(\"[LOGISTIC REGRESSION REDUCIDO]: La F1_SCORE es: {}\".format(resultados[\"LOGISTIC REGRESSION REDUCIDO\"][1]))\n",
    "print(\"[LOGISTIC REGRESSION REDUCIDO]: La MATRIZ DE CONFUSIÓN es: {}\\n\".format(resultados[\"LOGISTIC REGRESSION REDUCIDO\"][2]))\n",
    "\n",
    "print(\"---------------------------------------------------------------\")\n",
    "\n",
    "# BOOSTING LIGHGBM\n",
    "print(\"[BOOSTING LIGHTGBM]: La BALANCED_ACCURACCY es: {}\".format(resultados[\"BOOSTING LIGHTGBM\"][0]))\n",
    "print(\"[BOOSTING LIGHTGBM]: La F1_SCORE es: {}\".format(resultados[\"BOOSTING LIGHTGBM\"][1]))\n",
    "print(\"[BOOSTING LIGHTGBM]: La MATRIZ DE CONFUSIÓN es: {}\\n\".format(resultados[\"BOOSTING LIGHTGBM\"][2]))\n",
    "\n",
    "print(\"[BOOSTING LIGHTGBM MODIFICADO]: La BALANCED_ACCURACCY es: {}\".format(resultados[\"BOOSTING LIGHTGBM MODIFICADO\"][0]))\n",
    "print(\"[BOOSTING LIGHTGBM MODIFICADO]: La F1_SCORE es: {}\".format(resultados[\"BOOSTING LIGHTGBM MODIFICADO\"][1]))\n",
    "print(\"[BOOSTING LIGHTGBM MODIFICADO]: La MATRIZ DE CONFUSIÓN es: {}\\n\".format(resultados[\"BOOSTING LIGHTGBM MODIFICADO\"][2]))\n",
    "\n",
    "print(\"[BOOSTING LIGHTGBM REDUCIDO]: La BALANCED_ACCURACCY es: {}\".format(resultados[\"BOOSTING LIGHTGBM REDUCIDO\"][0]))\n",
    "print(\"[BOOSTING LIGHTGBM REDUCIDO]: La F1_SCORE es: {}\".format(resultados[\"BOOSTING LIGHTGBM REDUCIDO\"][1]))\n",
    "print(\"[BOOSTING LIGHTGBM REDUCIDO]: La MATRIZ DE CONFUSIÓN es: {}\\n\".format(resultados[\"BOOSTING LIGHTGBM REDUCIDO\"][2]))"
   ]
  },
  {
   "attachments": {},
   "cell_type": "markdown",
   "metadata": {},
   "source": [
    "Como podemos ver, en el caso del Logistic Regression, el modelo ha mejorado tras la reducción de atributos. Sin embargo, esto no ha hecho que pase a ser mejor que el método de LightGBM que sigue siendo el ideal a pesar de haber empeorado (muy ligeramente) al reducir parámetros.\n",
    "\n",
    "A continuación vamos a representar estos datos de una forma gráfica para que sea más visual. Se representaran las métricas balanced accuracy y f1 pues la matriz no se podría mostrar de esta forma."
   ]
  },
  {
   "cell_type": "code",
   "execution_count": 30,
   "metadata": {},
   "outputs": [
    {
     "name": "stderr",
     "output_type": "stream",
     "text": [
      "No artists with labels found to put in legend.  Note that artists whose label start with an underscore are ignored when legend() is called with no argument.\n"
     ]
    },
    {
     "data": {
      "image/png": "[encoded data removed]",
      "text/plain": [
       "<Figure size 640x480 with 1 Axes>"
      ]
     },
     "metadata": {},
     "output_type": "display_data"
    }
   ],
   "source": [
    "# Separamos los resultados de las métricas\n",
    "balanced_acc = [resultados[\"LOGISTIC REGRESSION\"][0], resultados[\"LOGISTIC REGRESSION REDUCIDO\"][0], resultados[\"BOOSTING LIGHTGBM\"][0], resultados[\"BOOSTING LIGHTGBM MODIFICADO\"][0], resultados[\"BOOSTING LIGHTGBM REDUCIDO\"][0]]\n",
    "f1 = [resultados[\"LOGISTIC REGRESSION\"][1], resultados[\"LOGISTIC REGRESSION REDUCIDO\"][1], resultados[\"BOOSTING LIGHTGBM\"][1], resultados[\"BOOSTING LIGHTGBM MODIFICADO\"][1], resultados[\"BOOSTING LIGHTGBM REDUCIDO\"][1]]\n",
    "\n",
    "# Creamos una lista con los nombres de los modelos para la leyenda\n",
    "modelos = ['Logitic Regression', 'Logistic Regression Reducido', 'Boosting (LightGBM)', 'Boosting (LightGBM) Optimizado', 'Boosting (LightGBM) Optimizado Reducido']\n",
    "\n",
    "# Creamos un gráfico de dispersión con las métricas y ajustamos la leyenda\n",
    "plt.scatter(balanced_acc, f1)\n",
    "for i, modelo in enumerate(modelos):\n",
    "    plt.annotate(modelo, (balanced_acc[i], f1[i]))\n",
    "plt.legend()\n",
    "\n",
    "# Nombramos los ejes\n",
    "plt.xlabel('balanced_acc')\n",
    "plt.ylabel('f1')\n",
    "\n",
    "# Mostramos el gráfico\n",
    "plt.show()\n"
   ]
  },
  {
   "attachments": {},
   "cell_type": "markdown",
   "metadata": {},
   "source": [
    "En el gráfico que se devuelve, en el que un modelo es mejor cuanto más a la derecha y más arriba se encuentre, se puede ver claramente la inferioridad del método de boosting cuando no se ajustan los hiperparámetros. Sin embargo, al ajustarse, este pasa a ser el mejor método. Si nos fijamos en los casos de parámetros reducidos, se ve fácilmente la mejora en el caso del logistic regression mientras que los puntos que representan el boosting reducido y optimizado están cerca de sobreponerse.\n",
    "\n",
    "Por último exportaremos le modelo final. El escogido será el modelo de boosting LighGBM con los atributos reducidos. La razón de escoger este y no el de boosting optimizado por su puntuación más alta es que la diferencia es mínima y el escogido pudo procesar correctamente 1 caso más de clase minoritaria que el otro por lo que a la larga podría ser mejor con otro conjunto de datos al identificar las clase menos común en nuestros datos en mayor medida."
   ]
  },
  {
   "cell_type": "code",
   "execution_count": 32,
   "metadata": {},
   "outputs": [],
   "source": [
    "# Creamos los tranformadores con OneHotEncoder\n",
    "string_transformer = Pipeline(steps=[\n",
    "    ('onehot', OneHotEncoder(handle_unknown='ignore'))\n",
    "])\n",
    "\n",
    "procesador = ColumnTransformer(\n",
    "    transformers=[\n",
    "        ('cat', string_transformer, ['BusinessTravel', 'Department', 'EducationField', 'Gender', 'JobRole', 'MaritalStatus', 'Over18']), # columnas con datos categóricos\n",
    "    ])\n",
    "\n",
    "# Creamos el selector, scaler y el modelo\n",
    "selector = SelectKBest(f_classif, k=23)\n",
    "scaler = StandardScaler(with_mean=False)\n",
    "params = {'learning_rate': 0.1, 'max_depth': 10, 'min_child_samples': 10, 'n_estimators': 150, 'subsample': 0.1, 'k': 23, 'random_state': 21, 'is_unbalance': True}\n",
    "lg = LGBMClassifier(**params)\n",
    "\n",
    "\n",
    "# Creamos el pipeline\n",
    "pipeline_final = Pipeline([\n",
    "  ('procesador', procesador),\n",
    "  ('scaler', scaler),\n",
    "  ('select', selector),\n",
    "  ('lg', lg)                     \n",
    "])\n",
    "\n",
    "# Entrenamos el modelo\n",
    "pipeline_final.fit(X_train, y_train)\n",
    "\n",
    "# Exportamos el modelo final a un fichero pickle\n",
    "with open('modelo_final.pkl', 'wb') as f:\n",
    "    pickle.dump(pipeline_final, f)"
   ]
  }
 ],
 "metadata": {
  "kernelspec": {
   "display_name": "Python 3",
   "language": "python",
   "name": "python3"
  },
  "language_info": {
   "codemirror_mode": {
    "name": "ipython",
    "version": 3
   },
   "file_extension": ".py",
   "mimetype": "text/x-python",
   "name": "python",
   "nbconvert_exporter": "python",
   "pygments_lexer": "ipython3",
   "version": "3.9.0"
  },
  "orig_nbformat": 4
 },
 "nbformat": 4,
 "nbformat_minor": 2
}
